{
 "cells": [
  {
   "cell_type": "markdown",
   "id": "bc8639fb",
   "metadata": {},
   "source": [
    "## Scikit- learn"
   ]
  },
  {
   "cell_type": "code",
   "execution_count": 4,
   "id": "df1814c5",
   "metadata": {},
   "outputs": [
    {
     "data": {
      "text/html": [
       "<div>\n",
       "<style scoped>\n",
       "    .dataframe tbody tr th:only-of-type {\n",
       "        vertical-align: middle;\n",
       "    }\n",
       "\n",
       "    .dataframe tbody tr th {\n",
       "        vertical-align: top;\n",
       "    }\n",
       "\n",
       "    .dataframe thead th {\n",
       "        text-align: right;\n",
       "    }\n",
       "</style>\n",
       "<table border=\"1\" class=\"dataframe\">\n",
       "  <thead>\n",
       "    <tr style=\"text-align: right;\">\n",
       "      <th></th>\n",
       "      <th>age</th>\n",
       "      <th>sex</th>\n",
       "      <th>cp</th>\n",
       "      <th>trestbps</th>\n",
       "      <th>chol</th>\n",
       "      <th>fbs</th>\n",
       "      <th>restecg</th>\n",
       "      <th>thalach</th>\n",
       "      <th>exang</th>\n",
       "      <th>oldpeak</th>\n",
       "      <th>slope</th>\n",
       "      <th>ca</th>\n",
       "      <th>thal</th>\n",
       "      <th>target</th>\n",
       "    </tr>\n",
       "  </thead>\n",
       "  <tbody>\n",
       "    <tr>\n",
       "      <th>0</th>\n",
       "      <td>63</td>\n",
       "      <td>1</td>\n",
       "      <td>3</td>\n",
       "      <td>145</td>\n",
       "      <td>233</td>\n",
       "      <td>1</td>\n",
       "      <td>0</td>\n",
       "      <td>150</td>\n",
       "      <td>0</td>\n",
       "      <td>2.3</td>\n",
       "      <td>0</td>\n",
       "      <td>0</td>\n",
       "      <td>1</td>\n",
       "      <td>1</td>\n",
       "    </tr>\n",
       "    <tr>\n",
       "      <th>1</th>\n",
       "      <td>37</td>\n",
       "      <td>1</td>\n",
       "      <td>2</td>\n",
       "      <td>130</td>\n",
       "      <td>250</td>\n",
       "      <td>0</td>\n",
       "      <td>1</td>\n",
       "      <td>187</td>\n",
       "      <td>0</td>\n",
       "      <td>3.5</td>\n",
       "      <td>0</td>\n",
       "      <td>0</td>\n",
       "      <td>2</td>\n",
       "      <td>1</td>\n",
       "    </tr>\n",
       "    <tr>\n",
       "      <th>2</th>\n",
       "      <td>41</td>\n",
       "      <td>0</td>\n",
       "      <td>1</td>\n",
       "      <td>130</td>\n",
       "      <td>204</td>\n",
       "      <td>0</td>\n",
       "      <td>0</td>\n",
       "      <td>172</td>\n",
       "      <td>0</td>\n",
       "      <td>1.4</td>\n",
       "      <td>2</td>\n",
       "      <td>0</td>\n",
       "      <td>2</td>\n",
       "      <td>1</td>\n",
       "    </tr>\n",
       "    <tr>\n",
       "      <th>3</th>\n",
       "      <td>56</td>\n",
       "      <td>1</td>\n",
       "      <td>1</td>\n",
       "      <td>120</td>\n",
       "      <td>236</td>\n",
       "      <td>0</td>\n",
       "      <td>1</td>\n",
       "      <td>178</td>\n",
       "      <td>0</td>\n",
       "      <td>0.8</td>\n",
       "      <td>2</td>\n",
       "      <td>0</td>\n",
       "      <td>2</td>\n",
       "      <td>1</td>\n",
       "    </tr>\n",
       "    <tr>\n",
       "      <th>4</th>\n",
       "      <td>57</td>\n",
       "      <td>0</td>\n",
       "      <td>0</td>\n",
       "      <td>120</td>\n",
       "      <td>354</td>\n",
       "      <td>0</td>\n",
       "      <td>1</td>\n",
       "      <td>163</td>\n",
       "      <td>1</td>\n",
       "      <td>0.6</td>\n",
       "      <td>2</td>\n",
       "      <td>0</td>\n",
       "      <td>2</td>\n",
       "      <td>1</td>\n",
       "    </tr>\n",
       "  </tbody>\n",
       "</table>\n",
       "</div>"
      ],
      "text/plain": [
       "   age  sex  cp  trestbps  chol  fbs  restecg  thalach  exang  oldpeak  slope  \\\n",
       "0   63    1   3       145   233    1        0      150      0      2.3      0   \n",
       "1   37    1   2       130   250    0        1      187      0      3.5      0   \n",
       "2   41    0   1       130   204    0        0      172      0      1.4      2   \n",
       "3   56    1   1       120   236    0        1      178      0      0.8      2   \n",
       "4   57    0   0       120   354    0        1      163      1      0.6      2   \n",
       "\n",
       "   ca  thal  target  \n",
       "0   0     1       1  \n",
       "1   0     2       1  \n",
       "2   0     2       1  \n",
       "3   0     2       1  \n",
       "4   0     2       1  "
      ]
     },
     "execution_count": 4,
     "metadata": {},
     "output_type": "execute_result"
    }
   ],
   "source": [
    "import pandas as pd\n",
    "import numpy as np\n",
    "hdf= pd.read_csv('heart-disease.csv')\n",
    "hdf.head()"
   ]
  },
  {
   "cell_type": "code",
   "execution_count": 2,
   "id": "453f84d9",
   "metadata": {},
   "outputs": [],
   "source": [
    "# Creating feature matrix(X)\n",
    "# axis=0 means the rows axis\n",
    "# axix=1 means the columns axis\n",
    "X= hdf.drop('target',axis=1)"
   ]
  },
  {
   "cell_type": "code",
   "execution_count": 3,
   "id": "48c9c23b",
   "metadata": {},
   "outputs": [],
   "source": [
    "# Creating labels\n",
    "Y= hdf['target']"
   ]
  },
  {
   "cell_type": "code",
   "execution_count": 14,
   "id": "74ae0a8b",
   "metadata": {},
   "outputs": [
    {
     "data": {
      "text/plain": [
       "{'bootstrap': True,\n",
       " 'ccp_alpha': 0.0,\n",
       " 'class_weight': None,\n",
       " 'criterion': 'gini',\n",
       " 'max_depth': None,\n",
       " 'max_features': 'sqrt',\n",
       " 'max_leaf_nodes': None,\n",
       " 'max_samples': None,\n",
       " 'min_impurity_decrease': 0.0,\n",
       " 'min_samples_leaf': 1,\n",
       " 'min_samples_split': 2,\n",
       " 'min_weight_fraction_leaf': 0.0,\n",
       " 'n_estimators': 100,\n",
       " 'n_jobs': None,\n",
       " 'oob_score': False,\n",
       " 'random_state': None,\n",
       " 'verbose': 0,\n",
       " 'warm_start': False}"
      ]
     },
     "execution_count": 14,
     "metadata": {},
     "output_type": "execute_result"
    }
   ],
   "source": [
    "# CHOOSING THE MODEL\n",
    "from sklearn.ensemble import RandomForestClassifier\n",
    "clf= RandomForestClassifier(n_estimators=100)\n",
    "\n",
    "# Keeping the default hyperparameters\n",
    "clf.get_params()"
   ]
  },
  {
   "cell_type": "code",
   "execution_count": 25,
   "id": "86328f73",
   "metadata": {},
   "outputs": [
    {
     "data": {
      "text/plain": [
       "((16512, 8), (16512,), (4128,), (4128, 8))"
      ]
     },
     "execution_count": 25,
     "metadata": {},
     "output_type": "execute_result"
    }
   ],
   "source": [
    "# Fit the model to data\n",
    "from sklearn.model_selection import train_test_split\n",
    "\n",
    "#Splitting the data into training and testing parts\n",
    "X_train, X_test, Y_train, Y_test= train_test_split(X,Y,test_size=0.2)\n",
    "X_train.shape, Y_train.shape, Y_test.shape, X_test.shape"
   ]
  },
  {
   "cell_type": "code",
   "execution_count": 17,
   "id": "3374d806",
   "metadata": {},
   "outputs": [],
   "source": [
    "#Find the patterns in training data\n",
    "clf.fit(X_train,Y_train);"
   ]
  },
  {
   "cell_type": "code",
   "execution_count": 28,
   "id": "af0557e8",
   "metadata": {},
   "outputs": [
    {
     "data": {
      "text/plain": [
       "array([1, 1, 1, 0, 1, 0, 1, 0, 1, 0, 1, 1, 1, 0, 0, 1, 1, 0, 1, 1, 0, 0,\n",
       "       1, 1, 1, 1, 0, 1, 1, 0, 1, 1, 1, 0, 0, 0, 0, 0, 0, 1, 0, 1, 0, 0,\n",
       "       1, 1, 0, 1, 0, 1, 0, 1, 0, 0, 0, 1, 0, 1, 1, 1, 0])"
      ]
     },
     "execution_count": 28,
     "metadata": {},
     "output_type": "execute_result"
    }
   ],
   "source": [
    "# Making a prediction\n",
    "y_label= clf.predict(X_test)\n",
    "y_label"
   ]
  },
  {
   "cell_type": "code",
   "execution_count": 21,
   "id": "1675fa67",
   "metadata": {},
   "outputs": [
    {
     "data": {
      "text/plain": [
       "1.0"
      ]
     },
     "execution_count": 21,
     "metadata": {},
     "output_type": "execute_result"
    }
   ],
   "source": [
    "# Checking the accuracy of our model on test data\n",
    "clf.score(X_train, Y_train)"
   ]
  },
  {
   "cell_type": "code",
   "execution_count": 22,
   "id": "1949740c",
   "metadata": {},
   "outputs": [
    {
     "data": {
      "text/plain": [
       "0.7868852459016393"
      ]
     },
     "execution_count": 22,
     "metadata": {},
     "output_type": "execute_result"
    }
   ],
   "source": [
    "clf.score(X_test,Y_test)"
   ]
  },
  {
   "cell_type": "code",
   "execution_count": 26,
   "id": "4672e472",
   "metadata": {},
   "outputs": [
    {
     "name": "stdout",
     "output_type": "stream",
     "text": [
      "              precision    recall  f1-score   support\n",
      "\n",
      "           0       0.75      0.78      0.76        27\n",
      "           1       0.82      0.79      0.81        34\n",
      "\n",
      "    accuracy                           0.79        61\n",
      "   macro avg       0.78      0.79      0.78        61\n",
      "weighted avg       0.79      0.79      0.79        61\n",
      "\n"
     ]
    }
   ],
   "source": [
    "from sklearn.metrics import classification_report, confusion_matrix, accuracy_score\n",
    "print(classification_report(Y_test,y_label))"
   ]
  },
  {
   "cell_type": "code",
   "execution_count": 29,
   "id": "86d29e4e",
   "metadata": {},
   "outputs": [
    {
     "data": {
      "text/plain": [
       "array([[21,  6],\n",
       "       [ 7, 27]])"
      ]
     },
     "execution_count": 29,
     "metadata": {},
     "output_type": "execute_result"
    }
   ],
   "source": [
    "confusion_matrix(Y_test, y_label)"
   ]
  },
  {
   "cell_type": "code",
   "execution_count": 30,
   "id": "a22868fe",
   "metadata": {},
   "outputs": [
    {
     "data": {
      "text/plain": [
       "0.7868852459016393"
      ]
     },
     "execution_count": 30,
     "metadata": {},
     "output_type": "execute_result"
    }
   ],
   "source": [
    "accuracy_score(Y_test, y_label)"
   ]
  },
  {
   "cell_type": "code",
   "execution_count": 35,
   "id": "c895bb78",
   "metadata": {},
   "outputs": [
    {
     "name": "stdout",
     "output_type": "stream",
     "text": [
      "Trying models with 10 estimators\n",
      "Accuracy score: 80.32786885245902 %\n",
      "Trying models with 20 estimators\n",
      "Accuracy score: 78.68852459016394 %\n",
      "Trying models with 30 estimators\n",
      "Accuracy score: 83.60655737704919 %\n",
      "Trying models with 40 estimators\n",
      "Accuracy score: 81.9672131147541 %\n",
      "Trying models with 50 estimators\n",
      "Accuracy score: 83.60655737704919 %\n",
      "Trying models with 60 estimators\n",
      "Accuracy score: 81.9672131147541 %\n",
      "Trying models with 70 estimators\n",
      "Accuracy score: 81.9672131147541 %\n",
      "Trying models with 80 estimators\n",
      "Accuracy score: 81.9672131147541 %\n",
      "Trying models with 90 estimators\n",
      "Accuracy score: 78.68852459016394 %\n"
     ]
    }
   ],
   "source": [
    "## IMPROVE THE MODEL\n",
    "# Trying different number of n-estimators\n",
    "np.random.seed(42)\n",
    "for i in range (10,100,10):\n",
    "    print(f\"Trying models with {i} estimators\")\n",
    "    clf= RandomForestClassifier().fit(X_train,Y_train)\n",
    "    print(f\"Accuracy score: {clf.score(X_test, Y_test)*100} %\")"
   ]
  },
  {
   "cell_type": "markdown",
   "id": "f69093f6",
   "metadata": {},
   "source": [
    "#### Hence, 50 estimators are the best"
   ]
  },
  {
   "cell_type": "code",
   "execution_count": 37,
   "id": "a0231ce7",
   "metadata": {},
   "outputs": [],
   "source": [
    "## SAVING THE MODEL\n",
    "import pickle\n",
    "pickle.dump(clf, open('random_forest_model_1.pkl','wb'))\n",
    "# wb stands for WRITE BINARY"
   ]
  },
  {
   "cell_type": "code",
   "execution_count": 38,
   "id": "f69f31bd",
   "metadata": {},
   "outputs": [
    {
     "data": {
      "text/plain": [
       "0.7868852459016393"
      ]
     },
     "execution_count": 38,
     "metadata": {},
     "output_type": "execute_result"
    }
   ],
   "source": [
    "load_model= pickle.load(open('random_forest_model_1.pkl','rb'))\n",
    "load_model.score(X_test,Y_test)"
   ]
  },
  {
   "cell_type": "markdown",
   "id": "e02102b5",
   "metadata": {},
   "source": [
    "## To escape the warnings"
   ]
  },
  {
   "cell_type": "code",
   "execution_count": 41,
   "id": "51c387a2",
   "metadata": {},
   "outputs": [],
   "source": [
    "import warnings\n",
    "warnings.filterwarnings(\"ignore\")\n",
    "##This will remove all the warnings from our file at once"
   ]
  },
  {
   "cell_type": "markdown",
   "id": "303629f4",
   "metadata": {},
   "source": [
    "## Get our data ready for the machine learning model to work \n",
    "\n",
    "Things to do:\n",
    "\n",
    "    * Divide the data into features and labels ('X' and 'Y')\n",
    "    * Fill (impute) in the missing values\n",
    "    * Convert non-numerical values to numerical values"
   ]
  },
  {
   "cell_type": "code",
   "execution_count": 47,
   "id": "2ad387fe",
   "metadata": {},
   "outputs": [
    {
     "data": {
      "text/html": [
       "<div>\n",
       "<style scoped>\n",
       "    .dataframe tbody tr th:only-of-type {\n",
       "        vertical-align: middle;\n",
       "    }\n",
       "\n",
       "    .dataframe tbody tr th {\n",
       "        vertical-align: top;\n",
       "    }\n",
       "\n",
       "    .dataframe thead th {\n",
       "        text-align: right;\n",
       "    }\n",
       "</style>\n",
       "<table border=\"1\" class=\"dataframe\">\n",
       "  <thead>\n",
       "    <tr style=\"text-align: right;\">\n",
       "      <th></th>\n",
       "      <th>Make</th>\n",
       "      <th>Colour</th>\n",
       "      <th>Odometer (KM)</th>\n",
       "      <th>Doors</th>\n",
       "      <th>Price</th>\n",
       "    </tr>\n",
       "  </thead>\n",
       "  <tbody>\n",
       "    <tr>\n",
       "      <th>0</th>\n",
       "      <td>Honda</td>\n",
       "      <td>White</td>\n",
       "      <td>35431</td>\n",
       "      <td>4</td>\n",
       "      <td>15323</td>\n",
       "    </tr>\n",
       "    <tr>\n",
       "      <th>1</th>\n",
       "      <td>BMW</td>\n",
       "      <td>Blue</td>\n",
       "      <td>192714</td>\n",
       "      <td>5</td>\n",
       "      <td>19943</td>\n",
       "    </tr>\n",
       "    <tr>\n",
       "      <th>2</th>\n",
       "      <td>Honda</td>\n",
       "      <td>White</td>\n",
       "      <td>84714</td>\n",
       "      <td>4</td>\n",
       "      <td>28343</td>\n",
       "    </tr>\n",
       "    <tr>\n",
       "      <th>3</th>\n",
       "      <td>Toyota</td>\n",
       "      <td>White</td>\n",
       "      <td>154365</td>\n",
       "      <td>4</td>\n",
       "      <td>13434</td>\n",
       "    </tr>\n",
       "    <tr>\n",
       "      <th>4</th>\n",
       "      <td>Nissan</td>\n",
       "      <td>Blue</td>\n",
       "      <td>181577</td>\n",
       "      <td>3</td>\n",
       "      <td>14043</td>\n",
       "    </tr>\n",
       "  </tbody>\n",
       "</table>\n",
       "</div>"
      ],
      "text/plain": [
       "     Make Colour  Odometer (KM)  Doors  Price\n",
       "0   Honda  White          35431      4  15323\n",
       "1     BMW   Blue         192714      5  19943\n",
       "2   Honda  White          84714      4  28343\n",
       "3  Toyota  White         154365      4  13434\n",
       "4  Nissan   Blue         181577      3  14043"
      ]
     },
     "execution_count": 47,
     "metadata": {},
     "output_type": "execute_result"
    }
   ],
   "source": [
    "## Converting data to numerical form\n",
    "cdf= pd.read_csv('car-sales-extended.csv')\n",
    "cdf.head()"
   ]
  },
  {
   "cell_type": "code",
   "execution_count": 48,
   "id": "9490e485",
   "metadata": {},
   "outputs": [
    {
     "data": {
      "text/plain": [
       "1000"
      ]
     },
     "execution_count": 48,
     "metadata": {},
     "output_type": "execute_result"
    }
   ],
   "source": [
    "len(cdf)"
   ]
  },
  {
   "cell_type": "code",
   "execution_count": 51,
   "id": "09e93faf",
   "metadata": {},
   "outputs": [
    {
     "data": {
      "text/plain": [
       "Make             object\n",
       "Colour           object\n",
       "Odometer (KM)     int64\n",
       "Doors             int64\n",
       "Price             int64\n",
       "dtype: object"
      ]
     },
     "execution_count": 51,
     "metadata": {},
     "output_type": "execute_result"
    }
   ],
   "source": [
    "## ALL the datatypes HAVE to be numbers\n",
    "cdf.dtypes"
   ]
  },
  {
   "cell_type": "code",
   "execution_count": 57,
   "id": "2418eacc",
   "metadata": {},
   "outputs": [
    {
     "data": {
      "text/html": [
       "<div>\n",
       "<style scoped>\n",
       "    .dataframe tbody tr th:only-of-type {\n",
       "        vertical-align: middle;\n",
       "    }\n",
       "\n",
       "    .dataframe tbody tr th {\n",
       "        vertical-align: top;\n",
       "    }\n",
       "\n",
       "    .dataframe thead th {\n",
       "        text-align: right;\n",
       "    }\n",
       "</style>\n",
       "<table border=\"1\" class=\"dataframe\">\n",
       "  <thead>\n",
       "    <tr style=\"text-align: right;\">\n",
       "      <th></th>\n",
       "      <th>Make</th>\n",
       "      <th>Colour</th>\n",
       "      <th>Odometer (KM)</th>\n",
       "      <th>Doors</th>\n",
       "    </tr>\n",
       "  </thead>\n",
       "  <tbody>\n",
       "    <tr>\n",
       "      <th>0</th>\n",
       "      <td>Honda</td>\n",
       "      <td>White</td>\n",
       "      <td>35431</td>\n",
       "      <td>4</td>\n",
       "    </tr>\n",
       "    <tr>\n",
       "      <th>1</th>\n",
       "      <td>BMW</td>\n",
       "      <td>Blue</td>\n",
       "      <td>192714</td>\n",
       "      <td>5</td>\n",
       "    </tr>\n",
       "    <tr>\n",
       "      <th>2</th>\n",
       "      <td>Honda</td>\n",
       "      <td>White</td>\n",
       "      <td>84714</td>\n",
       "      <td>4</td>\n",
       "    </tr>\n",
       "    <tr>\n",
       "      <th>3</th>\n",
       "      <td>Toyota</td>\n",
       "      <td>White</td>\n",
       "      <td>154365</td>\n",
       "      <td>4</td>\n",
       "    </tr>\n",
       "    <tr>\n",
       "      <th>4</th>\n",
       "      <td>Nissan</td>\n",
       "      <td>Blue</td>\n",
       "      <td>181577</td>\n",
       "      <td>3</td>\n",
       "    </tr>\n",
       "  </tbody>\n",
       "</table>\n",
       "</div>"
      ],
      "text/plain": [
       "     Make Colour  Odometer (KM)  Doors\n",
       "0   Honda  White          35431      4\n",
       "1     BMW   Blue         192714      5\n",
       "2   Honda  White          84714      4\n",
       "3  Toyota  White         154365      4\n",
       "4  Nissan   Blue         181577      3"
      ]
     },
     "execution_count": 57,
     "metadata": {},
     "output_type": "execute_result"
    }
   ],
   "source": [
    "## Predict Price\n",
    "# Splitting the data into labels and features\n",
    "X1= cdf.drop('Price',axis=1)\n",
    "X1.head()"
   ]
  },
  {
   "cell_type": "code",
   "execution_count": 65,
   "id": "16007011",
   "metadata": {},
   "outputs": [
    {
     "data": {
      "text/plain": [
       "4    856\n",
       "5     79\n",
       "3     65\n",
       "Name: Doors, dtype: int64"
      ]
     },
     "execution_count": 65,
     "metadata": {},
     "output_type": "execute_result"
    }
   ],
   "source": [
    "cdf['Doors'].value_counts()"
   ]
  },
  {
   "cell_type": "code",
   "execution_count": 58,
   "id": "bddc6e58",
   "metadata": {},
   "outputs": [
    {
     "data": {
      "text/plain": [
       "0    15323\n",
       "1    19943\n",
       "2    28343\n",
       "3    13434\n",
       "4    14043\n",
       "Name: Price, dtype: int64"
      ]
     },
     "execution_count": 58,
     "metadata": {},
     "output_type": "execute_result"
    }
   ],
   "source": [
    "y= cdf['Price']\n",
    "y.head()"
   ]
  },
  {
   "cell_type": "code",
   "execution_count": 59,
   "id": "b6b6fdb8",
   "metadata": {},
   "outputs": [],
   "source": [
    "## Splitting into training and testing\n",
    "from sklearn.model_selection import train_test_split\n",
    "X1_train, X1_test, y_train, y_test= train_test_split(X1, y, test_size= 0.2)"
   ]
  },
  {
   "cell_type": "code",
   "execution_count": 60,
   "id": "45d68cc3",
   "metadata": {},
   "outputs": [
    {
     "data": {
      "text/plain": [
       "<bound method NDFrame.describe of        Make Colour  Odometer (KM)  Doors\n",
       "305   Honda  White          61163      4\n",
       "183  Toyota  White          87594      4\n",
       "125  Toyota   Blue          83784      4\n",
       "976  Toyota   Blue          95317      4\n",
       "340   Honda  White          80664      4\n",
       "..      ...    ...            ...    ...\n",
       "349     BMW  White         176864      5\n",
       "515   Honda   Blue          30120      4\n",
       "623   Honda  White         178134      4\n",
       "502   Honda   Blue         166897      4\n",
       "581   Honda  Black         222786      4\n",
       "\n",
       "[800 rows x 4 columns]>"
      ]
     },
     "execution_count": 60,
     "metadata": {},
     "output_type": "execute_result"
    }
   ],
   "source": [
    "X1_train.describe"
   ]
  },
  {
   "cell_type": "code",
   "execution_count": 61,
   "id": "e1e000fd",
   "metadata": {},
   "outputs": [
    {
     "data": {
      "text/plain": [
       "200"
      ]
     },
     "execution_count": 61,
     "metadata": {},
     "output_type": "execute_result"
    }
   ],
   "source": [
    "len(X1_test)"
   ]
  },
  {
   "cell_type": "code",
   "execution_count": 73,
   "id": "f36607e9",
   "metadata": {},
   "outputs": [
    {
     "ename": "ValueError",
     "evalue": "could not convert string to float: 'Honda'",
     "output_type": "error",
     "traceback": [
      "\u001b[0;31m---------------------------------------------------------------------------\u001b[0m",
      "\u001b[0;31mValueError\u001b[0m                                Traceback (most recent call last)",
      "Cell \u001b[0;32mIn[73], line 4\u001b[0m\n\u001b[1;32m      2\u001b[0m \u001b[38;5;28;01mfrom\u001b[39;00m \u001b[38;5;21;01msklearn\u001b[39;00m\u001b[38;5;21;01m.\u001b[39;00m\u001b[38;5;21;01mensemble\u001b[39;00m \u001b[38;5;28;01mimport\u001b[39;00m RandomForestRegressor\n\u001b[1;32m      3\u001b[0m model\u001b[38;5;241m=\u001b[39m RandomForestRegressor()\n\u001b[0;32m----> 4\u001b[0m model\u001b[38;5;241m.\u001b[39mfit(X1_train,y_train)\n",
      "File \u001b[0;32m~/Desktop/Machine Learning/project1/env/lib/python3.11/site-packages/sklearn/ensemble/_forest.py:345\u001b[0m, in \u001b[0;36mBaseForest.fit\u001b[0;34m(self, X, y, sample_weight)\u001b[0m\n\u001b[1;32m    343\u001b[0m \u001b[38;5;28;01mif\u001b[39;00m issparse(y):\n\u001b[1;32m    344\u001b[0m     \u001b[38;5;28;01mraise\u001b[39;00m \u001b[38;5;167;01mValueError\u001b[39;00m(\u001b[38;5;124m\"\u001b[39m\u001b[38;5;124msparse multilabel-indicator for y is not supported.\u001b[39m\u001b[38;5;124m\"\u001b[39m)\n\u001b[0;32m--> 345\u001b[0m X, y \u001b[38;5;241m=\u001b[39m \u001b[38;5;28mself\u001b[39m\u001b[38;5;241m.\u001b[39m_validate_data(\n\u001b[1;32m    346\u001b[0m     X, y, multi_output\u001b[38;5;241m=\u001b[39m\u001b[38;5;28;01mTrue\u001b[39;00m, accept_sparse\u001b[38;5;241m=\u001b[39m\u001b[38;5;124m\"\u001b[39m\u001b[38;5;124mcsc\u001b[39m\u001b[38;5;124m\"\u001b[39m, dtype\u001b[38;5;241m=\u001b[39mDTYPE\n\u001b[1;32m    347\u001b[0m )\n\u001b[1;32m    348\u001b[0m \u001b[38;5;28;01mif\u001b[39;00m sample_weight \u001b[38;5;129;01mis\u001b[39;00m \u001b[38;5;129;01mnot\u001b[39;00m \u001b[38;5;28;01mNone\u001b[39;00m:\n\u001b[1;32m    349\u001b[0m     sample_weight \u001b[38;5;241m=\u001b[39m _check_sample_weight(sample_weight, X)\n",
      "File \u001b[0;32m~/Desktop/Machine Learning/project1/env/lib/python3.11/site-packages/sklearn/base.py:584\u001b[0m, in \u001b[0;36mBaseEstimator._validate_data\u001b[0;34m(self, X, y, reset, validate_separately, **check_params)\u001b[0m\n\u001b[1;32m    582\u001b[0m         y \u001b[38;5;241m=\u001b[39m check_array(y, input_name\u001b[38;5;241m=\u001b[39m\u001b[38;5;124m\"\u001b[39m\u001b[38;5;124my\u001b[39m\u001b[38;5;124m\"\u001b[39m, \u001b[38;5;241m*\u001b[39m\u001b[38;5;241m*\u001b[39mcheck_y_params)\n\u001b[1;32m    583\u001b[0m     \u001b[38;5;28;01melse\u001b[39;00m:\n\u001b[0;32m--> 584\u001b[0m         X, y \u001b[38;5;241m=\u001b[39m check_X_y(X, y, \u001b[38;5;241m*\u001b[39m\u001b[38;5;241m*\u001b[39mcheck_params)\n\u001b[1;32m    585\u001b[0m     out \u001b[38;5;241m=\u001b[39m X, y\n\u001b[1;32m    587\u001b[0m \u001b[38;5;28;01mif\u001b[39;00m \u001b[38;5;129;01mnot\u001b[39;00m no_val_X \u001b[38;5;129;01mand\u001b[39;00m check_params\u001b[38;5;241m.\u001b[39mget(\u001b[38;5;124m\"\u001b[39m\u001b[38;5;124mensure_2d\u001b[39m\u001b[38;5;124m\"\u001b[39m, \u001b[38;5;28;01mTrue\u001b[39;00m):\n",
      "File \u001b[0;32m~/Desktop/Machine Learning/project1/env/lib/python3.11/site-packages/sklearn/utils/validation.py:1106\u001b[0m, in \u001b[0;36mcheck_X_y\u001b[0;34m(X, y, accept_sparse, accept_large_sparse, dtype, order, copy, force_all_finite, ensure_2d, allow_nd, multi_output, ensure_min_samples, ensure_min_features, y_numeric, estimator)\u001b[0m\n\u001b[1;32m   1101\u001b[0m         estimator_name \u001b[38;5;241m=\u001b[39m _check_estimator_name(estimator)\n\u001b[1;32m   1102\u001b[0m     \u001b[38;5;28;01mraise\u001b[39;00m \u001b[38;5;167;01mValueError\u001b[39;00m(\n\u001b[1;32m   1103\u001b[0m         \u001b[38;5;124mf\u001b[39m\u001b[38;5;124m\"\u001b[39m\u001b[38;5;132;01m{\u001b[39;00mestimator_name\u001b[38;5;132;01m}\u001b[39;00m\u001b[38;5;124m requires y to be passed, but the target y is None\u001b[39m\u001b[38;5;124m\"\u001b[39m\n\u001b[1;32m   1104\u001b[0m     )\n\u001b[0;32m-> 1106\u001b[0m X \u001b[38;5;241m=\u001b[39m check_array(\n\u001b[1;32m   1107\u001b[0m     X,\n\u001b[1;32m   1108\u001b[0m     accept_sparse\u001b[38;5;241m=\u001b[39maccept_sparse,\n\u001b[1;32m   1109\u001b[0m     accept_large_sparse\u001b[38;5;241m=\u001b[39maccept_large_sparse,\n\u001b[1;32m   1110\u001b[0m     dtype\u001b[38;5;241m=\u001b[39mdtype,\n\u001b[1;32m   1111\u001b[0m     order\u001b[38;5;241m=\u001b[39morder,\n\u001b[1;32m   1112\u001b[0m     copy\u001b[38;5;241m=\u001b[39mcopy,\n\u001b[1;32m   1113\u001b[0m     force_all_finite\u001b[38;5;241m=\u001b[39mforce_all_finite,\n\u001b[1;32m   1114\u001b[0m     ensure_2d\u001b[38;5;241m=\u001b[39mensure_2d,\n\u001b[1;32m   1115\u001b[0m     allow_nd\u001b[38;5;241m=\u001b[39mallow_nd,\n\u001b[1;32m   1116\u001b[0m     ensure_min_samples\u001b[38;5;241m=\u001b[39mensure_min_samples,\n\u001b[1;32m   1117\u001b[0m     ensure_min_features\u001b[38;5;241m=\u001b[39mensure_min_features,\n\u001b[1;32m   1118\u001b[0m     estimator\u001b[38;5;241m=\u001b[39mestimator,\n\u001b[1;32m   1119\u001b[0m     input_name\u001b[38;5;241m=\u001b[39m\u001b[38;5;124m\"\u001b[39m\u001b[38;5;124mX\u001b[39m\u001b[38;5;124m\"\u001b[39m,\n\u001b[1;32m   1120\u001b[0m )\n\u001b[1;32m   1122\u001b[0m y \u001b[38;5;241m=\u001b[39m _check_y(y, multi_output\u001b[38;5;241m=\u001b[39mmulti_output, y_numeric\u001b[38;5;241m=\u001b[39my_numeric, estimator\u001b[38;5;241m=\u001b[39mestimator)\n\u001b[1;32m   1124\u001b[0m check_consistent_length(X, y)\n",
      "File \u001b[0;32m~/Desktop/Machine Learning/project1/env/lib/python3.11/site-packages/sklearn/utils/validation.py:879\u001b[0m, in \u001b[0;36mcheck_array\u001b[0;34m(array, accept_sparse, accept_large_sparse, dtype, order, copy, force_all_finite, ensure_2d, allow_nd, ensure_min_samples, ensure_min_features, estimator, input_name)\u001b[0m\n\u001b[1;32m    877\u001b[0m         array \u001b[38;5;241m=\u001b[39m xp\u001b[38;5;241m.\u001b[39mastype(array, dtype, copy\u001b[38;5;241m=\u001b[39m\u001b[38;5;28;01mFalse\u001b[39;00m)\n\u001b[1;32m    878\u001b[0m     \u001b[38;5;28;01melse\u001b[39;00m:\n\u001b[0;32m--> 879\u001b[0m         array \u001b[38;5;241m=\u001b[39m _asarray_with_order(array, order\u001b[38;5;241m=\u001b[39morder, dtype\u001b[38;5;241m=\u001b[39mdtype, xp\u001b[38;5;241m=\u001b[39mxp)\n\u001b[1;32m    880\u001b[0m \u001b[38;5;28;01mexcept\u001b[39;00m ComplexWarning \u001b[38;5;28;01mas\u001b[39;00m complex_warning:\n\u001b[1;32m    881\u001b[0m     \u001b[38;5;28;01mraise\u001b[39;00m \u001b[38;5;167;01mValueError\u001b[39;00m(\n\u001b[1;32m    882\u001b[0m         \u001b[38;5;124m\"\u001b[39m\u001b[38;5;124mComplex data not supported\u001b[39m\u001b[38;5;130;01m\\n\u001b[39;00m\u001b[38;5;132;01m{}\u001b[39;00m\u001b[38;5;130;01m\\n\u001b[39;00m\u001b[38;5;124m\"\u001b[39m\u001b[38;5;241m.\u001b[39mformat(array)\n\u001b[1;32m    883\u001b[0m     ) \u001b[38;5;28;01mfrom\u001b[39;00m \u001b[38;5;21;01mcomplex_warning\u001b[39;00m\n",
      "File \u001b[0;32m~/Desktop/Machine Learning/project1/env/lib/python3.11/site-packages/sklearn/utils/_array_api.py:185\u001b[0m, in \u001b[0;36m_asarray_with_order\u001b[0;34m(array, dtype, order, copy, xp)\u001b[0m\n\u001b[1;32m    182\u001b[0m     xp, _ \u001b[38;5;241m=\u001b[39m get_namespace(array)\n\u001b[1;32m    183\u001b[0m \u001b[38;5;28;01mif\u001b[39;00m xp\u001b[38;5;241m.\u001b[39m\u001b[38;5;18m__name__\u001b[39m \u001b[38;5;129;01min\u001b[39;00m {\u001b[38;5;124m\"\u001b[39m\u001b[38;5;124mnumpy\u001b[39m\u001b[38;5;124m\"\u001b[39m, \u001b[38;5;124m\"\u001b[39m\u001b[38;5;124mnumpy.array_api\u001b[39m\u001b[38;5;124m\"\u001b[39m}:\n\u001b[1;32m    184\u001b[0m     \u001b[38;5;66;03m# Use NumPy API to support order\u001b[39;00m\n\u001b[0;32m--> 185\u001b[0m     array \u001b[38;5;241m=\u001b[39m numpy\u001b[38;5;241m.\u001b[39masarray(array, order\u001b[38;5;241m=\u001b[39morder, dtype\u001b[38;5;241m=\u001b[39mdtype)\n\u001b[1;32m    186\u001b[0m     \u001b[38;5;28;01mreturn\u001b[39;00m xp\u001b[38;5;241m.\u001b[39masarray(array, copy\u001b[38;5;241m=\u001b[39mcopy)\n\u001b[1;32m    187\u001b[0m \u001b[38;5;28;01melse\u001b[39;00m:\n",
      "File \u001b[0;32m~/Desktop/Machine Learning/project1/env/lib/python3.11/site-packages/pandas/core/generic.py:2070\u001b[0m, in \u001b[0;36mNDFrame.__array__\u001b[0;34m(self, dtype)\u001b[0m\n\u001b[1;32m   2069\u001b[0m \u001b[38;5;28;01mdef\u001b[39;00m \u001b[38;5;21m__array__\u001b[39m(\u001b[38;5;28mself\u001b[39m, dtype: npt\u001b[38;5;241m.\u001b[39mDTypeLike \u001b[38;5;241m|\u001b[39m \u001b[38;5;28;01mNone\u001b[39;00m \u001b[38;5;241m=\u001b[39m \u001b[38;5;28;01mNone\u001b[39;00m) \u001b[38;5;241m-\u001b[39m\u001b[38;5;241m>\u001b[39m np\u001b[38;5;241m.\u001b[39mndarray:\n\u001b[0;32m-> 2070\u001b[0m     \u001b[38;5;28;01mreturn\u001b[39;00m np\u001b[38;5;241m.\u001b[39masarray(\u001b[38;5;28mself\u001b[39m\u001b[38;5;241m.\u001b[39m_values, dtype\u001b[38;5;241m=\u001b[39mdtype)\n",
      "\u001b[0;31mValueError\u001b[0m: could not convert string to float: 'Honda'"
     ]
    }
   ],
   "source": [
    "# Lets build the model\n",
    "from sklearn.ensemble import RandomForestRegressor\n",
    "model= RandomForestRegressor()\n",
    "model.fit(X1_train,y_train)"
   ]
  },
  {
   "cell_type": "code",
   "execution_count": 69,
   "id": "5fd8ed3a",
   "metadata": {},
   "outputs": [
    {
     "data": {
      "text/plain": [
       "array([[0.00000e+00, 1.00000e+00, 0.00000e+00, ..., 1.00000e+00,\n",
       "        0.00000e+00, 3.54310e+04],\n",
       "       [1.00000e+00, 0.00000e+00, 0.00000e+00, ..., 0.00000e+00,\n",
       "        1.00000e+00, 1.92714e+05],\n",
       "       [0.00000e+00, 1.00000e+00, 0.00000e+00, ..., 1.00000e+00,\n",
       "        0.00000e+00, 8.47140e+04],\n",
       "       ...,\n",
       "       [0.00000e+00, 0.00000e+00, 1.00000e+00, ..., 1.00000e+00,\n",
       "        0.00000e+00, 6.66040e+04],\n",
       "       [0.00000e+00, 1.00000e+00, 0.00000e+00, ..., 1.00000e+00,\n",
       "        0.00000e+00, 2.15883e+05],\n",
       "       [0.00000e+00, 0.00000e+00, 0.00000e+00, ..., 1.00000e+00,\n",
       "        0.00000e+00, 2.48360e+05]])"
      ]
     },
     "execution_count": 69,
     "metadata": {},
     "output_type": "execute_result"
    }
   ],
   "source": [
    "# So, now we convert to string \n",
    "from sklearn.preprocessing import OneHotEncoder\n",
    "from sklearn.compose import ColumnTransformer\n",
    "\n",
    "# We choose Doors here because it has only 3 categories\n",
    "categorical_features= ['Make', 'Colour','Doors']\n",
    "\n",
    "one_hot= OneHotEncoder()\n",
    "transformer= ColumnTransformer([('one_hot',\n",
    "                                one_hot,\n",
    "                                categorical_features)],\n",
    "                              remainder='passthrough')\n",
    "transformed_data= transformer.fit_transform(X1)\n",
    "transformed_data"
   ]
  },
  {
   "cell_type": "code",
   "execution_count": 70,
   "id": "ff782aac",
   "metadata": {},
   "outputs": [
    {
     "data": {
      "text/html": [
       "<div>\n",
       "<style scoped>\n",
       "    .dataframe tbody tr th:only-of-type {\n",
       "        vertical-align: middle;\n",
       "    }\n",
       "\n",
       "    .dataframe tbody tr th {\n",
       "        vertical-align: top;\n",
       "    }\n",
       "\n",
       "    .dataframe thead th {\n",
       "        text-align: right;\n",
       "    }\n",
       "</style>\n",
       "<table border=\"1\" class=\"dataframe\">\n",
       "  <thead>\n",
       "    <tr style=\"text-align: right;\">\n",
       "      <th></th>\n",
       "      <th>0</th>\n",
       "      <th>1</th>\n",
       "      <th>2</th>\n",
       "      <th>3</th>\n",
       "      <th>4</th>\n",
       "      <th>5</th>\n",
       "      <th>6</th>\n",
       "      <th>7</th>\n",
       "      <th>8</th>\n",
       "      <th>9</th>\n",
       "      <th>10</th>\n",
       "      <th>11</th>\n",
       "      <th>12</th>\n",
       "    </tr>\n",
       "  </thead>\n",
       "  <tbody>\n",
       "    <tr>\n",
       "      <th>0</th>\n",
       "      <td>0.0</td>\n",
       "      <td>1.0</td>\n",
       "      <td>0.0</td>\n",
       "      <td>0.0</td>\n",
       "      <td>0.0</td>\n",
       "      <td>0.0</td>\n",
       "      <td>0.0</td>\n",
       "      <td>0.0</td>\n",
       "      <td>1.0</td>\n",
       "      <td>0.0</td>\n",
       "      <td>1.0</td>\n",
       "      <td>0.0</td>\n",
       "      <td>35431.0</td>\n",
       "    </tr>\n",
       "    <tr>\n",
       "      <th>1</th>\n",
       "      <td>1.0</td>\n",
       "      <td>0.0</td>\n",
       "      <td>0.0</td>\n",
       "      <td>0.0</td>\n",
       "      <td>0.0</td>\n",
       "      <td>1.0</td>\n",
       "      <td>0.0</td>\n",
       "      <td>0.0</td>\n",
       "      <td>0.0</td>\n",
       "      <td>0.0</td>\n",
       "      <td>0.0</td>\n",
       "      <td>1.0</td>\n",
       "      <td>192714.0</td>\n",
       "    </tr>\n",
       "    <tr>\n",
       "      <th>2</th>\n",
       "      <td>0.0</td>\n",
       "      <td>1.0</td>\n",
       "      <td>0.0</td>\n",
       "      <td>0.0</td>\n",
       "      <td>0.0</td>\n",
       "      <td>0.0</td>\n",
       "      <td>0.0</td>\n",
       "      <td>0.0</td>\n",
       "      <td>1.0</td>\n",
       "      <td>0.0</td>\n",
       "      <td>1.0</td>\n",
       "      <td>0.0</td>\n",
       "      <td>84714.0</td>\n",
       "    </tr>\n",
       "    <tr>\n",
       "      <th>3</th>\n",
       "      <td>0.0</td>\n",
       "      <td>0.0</td>\n",
       "      <td>0.0</td>\n",
       "      <td>1.0</td>\n",
       "      <td>0.0</td>\n",
       "      <td>0.0</td>\n",
       "      <td>0.0</td>\n",
       "      <td>0.0</td>\n",
       "      <td>1.0</td>\n",
       "      <td>0.0</td>\n",
       "      <td>1.0</td>\n",
       "      <td>0.0</td>\n",
       "      <td>154365.0</td>\n",
       "    </tr>\n",
       "    <tr>\n",
       "      <th>4</th>\n",
       "      <td>0.0</td>\n",
       "      <td>0.0</td>\n",
       "      <td>1.0</td>\n",
       "      <td>0.0</td>\n",
       "      <td>0.0</td>\n",
       "      <td>1.0</td>\n",
       "      <td>0.0</td>\n",
       "      <td>0.0</td>\n",
       "      <td>0.0</td>\n",
       "      <td>1.0</td>\n",
       "      <td>0.0</td>\n",
       "      <td>0.0</td>\n",
       "      <td>181577.0</td>\n",
       "    </tr>\n",
       "    <tr>\n",
       "      <th>...</th>\n",
       "      <td>...</td>\n",
       "      <td>...</td>\n",
       "      <td>...</td>\n",
       "      <td>...</td>\n",
       "      <td>...</td>\n",
       "      <td>...</td>\n",
       "      <td>...</td>\n",
       "      <td>...</td>\n",
       "      <td>...</td>\n",
       "      <td>...</td>\n",
       "      <td>...</td>\n",
       "      <td>...</td>\n",
       "      <td>...</td>\n",
       "    </tr>\n",
       "    <tr>\n",
       "      <th>995</th>\n",
       "      <td>0.0</td>\n",
       "      <td>0.0</td>\n",
       "      <td>0.0</td>\n",
       "      <td>1.0</td>\n",
       "      <td>1.0</td>\n",
       "      <td>0.0</td>\n",
       "      <td>0.0</td>\n",
       "      <td>0.0</td>\n",
       "      <td>0.0</td>\n",
       "      <td>0.0</td>\n",
       "      <td>1.0</td>\n",
       "      <td>0.0</td>\n",
       "      <td>35820.0</td>\n",
       "    </tr>\n",
       "    <tr>\n",
       "      <th>996</th>\n",
       "      <td>0.0</td>\n",
       "      <td>0.0</td>\n",
       "      <td>1.0</td>\n",
       "      <td>0.0</td>\n",
       "      <td>0.0</td>\n",
       "      <td>0.0</td>\n",
       "      <td>0.0</td>\n",
       "      <td>0.0</td>\n",
       "      <td>1.0</td>\n",
       "      <td>1.0</td>\n",
       "      <td>0.0</td>\n",
       "      <td>0.0</td>\n",
       "      <td>155144.0</td>\n",
       "    </tr>\n",
       "    <tr>\n",
       "      <th>997</th>\n",
       "      <td>0.0</td>\n",
       "      <td>0.0</td>\n",
       "      <td>1.0</td>\n",
       "      <td>0.0</td>\n",
       "      <td>0.0</td>\n",
       "      <td>1.0</td>\n",
       "      <td>0.0</td>\n",
       "      <td>0.0</td>\n",
       "      <td>0.0</td>\n",
       "      <td>0.0</td>\n",
       "      <td>1.0</td>\n",
       "      <td>0.0</td>\n",
       "      <td>66604.0</td>\n",
       "    </tr>\n",
       "    <tr>\n",
       "      <th>998</th>\n",
       "      <td>0.0</td>\n",
       "      <td>1.0</td>\n",
       "      <td>0.0</td>\n",
       "      <td>0.0</td>\n",
       "      <td>0.0</td>\n",
       "      <td>0.0</td>\n",
       "      <td>0.0</td>\n",
       "      <td>0.0</td>\n",
       "      <td>1.0</td>\n",
       "      <td>0.0</td>\n",
       "      <td>1.0</td>\n",
       "      <td>0.0</td>\n",
       "      <td>215883.0</td>\n",
       "    </tr>\n",
       "    <tr>\n",
       "      <th>999</th>\n",
       "      <td>0.0</td>\n",
       "      <td>0.0</td>\n",
       "      <td>0.0</td>\n",
       "      <td>1.0</td>\n",
       "      <td>0.0</td>\n",
       "      <td>1.0</td>\n",
       "      <td>0.0</td>\n",
       "      <td>0.0</td>\n",
       "      <td>0.0</td>\n",
       "      <td>0.0</td>\n",
       "      <td>1.0</td>\n",
       "      <td>0.0</td>\n",
       "      <td>248360.0</td>\n",
       "    </tr>\n",
       "  </tbody>\n",
       "</table>\n",
       "<p>1000 rows × 13 columns</p>\n",
       "</div>"
      ],
      "text/plain": [
       "      0    1    2    3    4    5    6    7    8    9    10   11        12\n",
       "0    0.0  1.0  0.0  0.0  0.0  0.0  0.0  0.0  1.0  0.0  1.0  0.0   35431.0\n",
       "1    1.0  0.0  0.0  0.0  0.0  1.0  0.0  0.0  0.0  0.0  0.0  1.0  192714.0\n",
       "2    0.0  1.0  0.0  0.0  0.0  0.0  0.0  0.0  1.0  0.0  1.0  0.0   84714.0\n",
       "3    0.0  0.0  0.0  1.0  0.0  0.0  0.0  0.0  1.0  0.0  1.0  0.0  154365.0\n",
       "4    0.0  0.0  1.0  0.0  0.0  1.0  0.0  0.0  0.0  1.0  0.0  0.0  181577.0\n",
       "..   ...  ...  ...  ...  ...  ...  ...  ...  ...  ...  ...  ...       ...\n",
       "995  0.0  0.0  0.0  1.0  1.0  0.0  0.0  0.0  0.0  0.0  1.0  0.0   35820.0\n",
       "996  0.0  0.0  1.0  0.0  0.0  0.0  0.0  0.0  1.0  1.0  0.0  0.0  155144.0\n",
       "997  0.0  0.0  1.0  0.0  0.0  1.0  0.0  0.0  0.0  0.0  1.0  0.0   66604.0\n",
       "998  0.0  1.0  0.0  0.0  0.0  0.0  0.0  0.0  1.0  0.0  1.0  0.0  215883.0\n",
       "999  0.0  0.0  0.0  1.0  0.0  1.0  0.0  0.0  0.0  0.0  1.0  0.0  248360.0\n",
       "\n",
       "[1000 rows x 13 columns]"
      ]
     },
     "execution_count": 70,
     "metadata": {},
     "output_type": "execute_result"
    }
   ],
   "source": [
    "pd.DataFrame(transformed_data)"
   ]
  },
  {
   "cell_type": "code",
   "execution_count": 76,
   "id": "0e0b2207",
   "metadata": {},
   "outputs": [
    {
     "data": {
      "text/plain": [
       "0.3235867221569877"
      ]
     },
     "execution_count": 76,
     "metadata": {},
     "output_type": "execute_result"
    }
   ],
   "source": [
    "## MODEL MAKING AGAIN\n",
    "np.random.seed(42)\n",
    "## y stays the same because y was already numerical\n",
    "X_train, X_test, y_train, y_test= train_test_split(transformed_data, y, test_size=0.2)\n",
    "model.fit(X_train, y_train);\n",
    "model.score(X_test, y_test)"
   ]
  },
  {
   "cell_type": "markdown",
   "id": "a810c812",
   "metadata": {},
   "source": [
    "## Handling Missing data values\n",
    "\n",
    "1. Fill them with some values\n",
    "2. Remove them\n",
    "\n",
    "### Handling data with pandas"
   ]
  },
  {
   "cell_type": "code",
   "execution_count": 80,
   "id": "8a532ee8",
   "metadata": {},
   "outputs": [
    {
     "data": {
      "text/html": [
       "<div>\n",
       "<style scoped>\n",
       "    .dataframe tbody tr th:only-of-type {\n",
       "        vertical-align: middle;\n",
       "    }\n",
       "\n",
       "    .dataframe tbody tr th {\n",
       "        vertical-align: top;\n",
       "    }\n",
       "\n",
       "    .dataframe thead th {\n",
       "        text-align: right;\n",
       "    }\n",
       "</style>\n",
       "<table border=\"1\" class=\"dataframe\">\n",
       "  <thead>\n",
       "    <tr style=\"text-align: right;\">\n",
       "      <th></th>\n",
       "      <th>Make</th>\n",
       "      <th>Colour</th>\n",
       "      <th>Odometer (KM)</th>\n",
       "      <th>Doors</th>\n",
       "      <th>Price</th>\n",
       "    </tr>\n",
       "  </thead>\n",
       "  <tbody>\n",
       "    <tr>\n",
       "      <th>0</th>\n",
       "      <td>Honda</td>\n",
       "      <td>White</td>\n",
       "      <td>35431.0</td>\n",
       "      <td>4.0</td>\n",
       "      <td>15323.0</td>\n",
       "    </tr>\n",
       "    <tr>\n",
       "      <th>1</th>\n",
       "      <td>BMW</td>\n",
       "      <td>Blue</td>\n",
       "      <td>192714.0</td>\n",
       "      <td>5.0</td>\n",
       "      <td>19943.0</td>\n",
       "    </tr>\n",
       "    <tr>\n",
       "      <th>2</th>\n",
       "      <td>Honda</td>\n",
       "      <td>White</td>\n",
       "      <td>84714.0</td>\n",
       "      <td>4.0</td>\n",
       "      <td>28343.0</td>\n",
       "    </tr>\n",
       "    <tr>\n",
       "      <th>3</th>\n",
       "      <td>Toyota</td>\n",
       "      <td>White</td>\n",
       "      <td>154365.0</td>\n",
       "      <td>4.0</td>\n",
       "      <td>13434.0</td>\n",
       "    </tr>\n",
       "    <tr>\n",
       "      <th>4</th>\n",
       "      <td>Nissan</td>\n",
       "      <td>Blue</td>\n",
       "      <td>181577.0</td>\n",
       "      <td>3.0</td>\n",
       "      <td>14043.0</td>\n",
       "    </tr>\n",
       "  </tbody>\n",
       "</table>\n",
       "</div>"
      ],
      "text/plain": [
       "     Make Colour  Odometer (KM)  Doors    Price\n",
       "0   Honda  White        35431.0    4.0  15323.0\n",
       "1     BMW   Blue       192714.0    5.0  19943.0\n",
       "2   Honda  White        84714.0    4.0  28343.0\n",
       "3  Toyota  White       154365.0    4.0  13434.0\n",
       "4  Nissan   Blue       181577.0    3.0  14043.0"
      ]
     },
     "execution_count": 80,
     "metadata": {},
     "output_type": "execute_result"
    }
   ],
   "source": [
    "missing= pd.read_csv('car-sales-extended-missing-data.csv')\n",
    "missing.head()"
   ]
  },
  {
   "cell_type": "code",
   "execution_count": 82,
   "id": "188358fb",
   "metadata": {},
   "outputs": [
    {
     "data": {
      "text/plain": [
       "Make             49\n",
       "Colour           50\n",
       "Odometer (KM)    50\n",
       "Doors            50\n",
       "Price            50\n",
       "dtype: int64"
      ]
     },
     "execution_count": 82,
     "metadata": {},
     "output_type": "execute_result"
    }
   ],
   "source": [
    "# To find the number of missing columns\n",
    "missing.isna().sum()"
   ]
  },
  {
   "cell_type": "code",
   "execution_count": 88,
   "id": "29c5b351",
   "metadata": {},
   "outputs": [],
   "source": [
    "# create X and Y\n",
    "Xmissing= missing.drop('Price',axis=1)\n",
    "Ymissing= missing['Price']"
   ]
  },
  {
   "cell_type": "code",
   "execution_count": 89,
   "id": "bc1970cf",
   "metadata": {},
   "outputs": [
    {
     "data": {
      "text/plain": [
       "<1000x16 sparse matrix of type '<class 'numpy.float64'>'\n",
       "\twith 4000 stored elements in Compressed Sparse Row format>"
      ]
     },
     "execution_count": 89,
     "metadata": {},
     "output_type": "execute_result"
    }
   ],
   "source": [
    "# converting it into numbers\n",
    "from sklearn.preprocessing import OneHotEncoder\n",
    "from sklearn.compose import ColumnTransformer\n",
    "\n",
    "categorical_features=['Make','Colour','Doors']\n",
    "one_hot= OneHotEncoder()\n",
    "transformmed= ColumnTransformer([('one_hot',\n",
    "                                 one_hot,\n",
    "                                 categorical_features)],\n",
    "                               remainder='passthrough')\n",
    "new_missing= transformmed.fit_transform(Xmissing)\n",
    "new_missing"
   ]
  },
  {
   "cell_type": "code",
   "execution_count": 90,
   "id": "49db99bc",
   "metadata": {},
   "outputs": [
    {
     "data": {
      "text/plain": [
       "Make             0\n",
       "Colour           0\n",
       "Odometer (KM)    0\n",
       "Doors            0\n",
       "Price            0\n",
       "dtype: int64"
      ]
     },
     "execution_count": 90,
     "metadata": {},
     "output_type": "execute_result"
    }
   ],
   "source": [
    "## Fill Missing data with Pandas\n",
    "missing['Make'].fillna('Missing',inplace=True)\n",
    "missing['Colour'].fillna('Missing',inplace=True)\n",
    "missing['Doors'].fillna(4,inplace=True)\n",
    "missing.dropna(inplace=True)\n",
    "missing.isna().sum()"
   ]
  },
  {
   "cell_type": "code",
   "execution_count": 92,
   "id": "f730168e",
   "metadata": {},
   "outputs": [],
   "source": [
    "## Redoing the split\n",
    "missingX= missing.drop('Price',axis=1)\n",
    "missingY= missing['Price']"
   ]
  },
  {
   "cell_type": "code",
   "execution_count": 93,
   "id": "4c40c21e",
   "metadata": {},
   "outputs": [
    {
     "data": {
      "text/plain": [
       "<902x15 sparse matrix of type '<class 'numpy.float64'>'\n",
       "\twith 3608 stored elements in Compressed Sparse Row format>"
      ]
     },
     "execution_count": 93,
     "metadata": {},
     "output_type": "execute_result"
    }
   ],
   "source": [
    "from sklearn.preprocessing import OneHotEncoder\n",
    "from sklearn.compose import ColumnTransformer\n",
    "\n",
    "categories=['Make','Colour','Doors']\n",
    "one_hot=OneHotEncoder()\n",
    "changed_data= ColumnTransformer([('one_hot',\n",
    "                                 one_hot,\n",
    "                                 categories)],\n",
    "                               remainder='passthrough')\n",
    "final_data= changed_data.fit_transform(missingX)\n",
    "final_data"
   ]
  },
  {
   "cell_type": "markdown",
   "id": "4ab32af7",
   "metadata": {},
   "source": [
    "## Note: Tranform training and test datas seperately "
   ]
  },
  {
   "cell_type": "markdown",
   "id": "ac3f8eb6",
   "metadata": {},
   "source": [
    "### Handling data with Scikit- learn"
   ]
  },
  {
   "cell_type": "code",
   "execution_count": 135,
   "id": "8991828a",
   "metadata": {},
   "outputs": [],
   "source": [
    "missing= pd.read_csv('car-sales-extended-missing-data.csv')\n",
    "missing.dropna(subset=['Price'],inplace=True)"
   ]
  },
  {
   "cell_type": "code",
   "execution_count": 136,
   "id": "af4413e3",
   "metadata": {},
   "outputs": [
    {
     "data": {
      "text/plain": [
       "((760, 4), (190, 4), (760,), (190,))"
      ]
     },
     "execution_count": 136,
     "metadata": {},
     "output_type": "execute_result"
    }
   ],
   "source": [
    "from sklearn.model_selection import train_test_split\n",
    "mx= missing.drop('Price', axis=1)\n",
    "my=missing['Price']\n",
    "\n",
    "mx_train, mx_test, my_train, my_test= train_test_split(mx,my,test_size=0.2)\n",
    "mx_train.shape,mx_test.shape,my_train.shape,my_test.shape"
   ]
  },
  {
   "cell_type": "code",
   "execution_count": 137,
   "id": "a7009c52",
   "metadata": {},
   "outputs": [
    {
     "data": {
      "text/plain": [
       "Make             40\n",
       "Colour           38\n",
       "Odometer (KM)    39\n",
       "Doors            34\n",
       "dtype: int64"
      ]
     },
     "execution_count": 137,
     "metadata": {},
     "output_type": "execute_result"
    }
   ],
   "source": [
    "mx_train.isna().sum()"
   ]
  },
  {
   "cell_type": "code",
   "execution_count": 138,
   "id": "4b7f7bee",
   "metadata": {},
   "outputs": [
    {
     "data": {
      "text/plain": [
       "0"
      ]
     },
     "execution_count": 138,
     "metadata": {},
     "output_type": "execute_result"
    }
   ],
   "source": [
    "my_train.isna().sum()"
   ]
  },
  {
   "cell_type": "markdown",
   "id": "346ea5a4",
   "metadata": {},
   "source": [
    "#### FILLING MISSING VALUES"
   ]
  },
  {
   "cell_type": "code",
   "execution_count": 139,
   "id": "325135cd",
   "metadata": {},
   "outputs": [],
   "source": [
    "from sklearn.impute import SimpleImputer\n",
    "from sklearn.compose import ColumnTransformer\n",
    "\n",
    "cat_imputer= SimpleImputer(strategy='constant', fill_value='missing')\n",
    "door_imputer= SimpleImputer(strategy='constant', fill_value=4)\n",
    "num_imputer= SimpleImputer(strategy='mean')\n",
    "\n",
    "cat_feature=['Make','Colour']\n",
    "door_feature= ['Doors']\n",
    "num_feature= ['Odometer (KM)']\n",
    "\n",
    "imputer= ColumnTransformer([(\"cat_imputer\",cat_imputer, cat_feature),\n",
    "                           (\"door_imputer\",door_imputer, door_feature),\n",
    "                           (\"num_imputer\",num_imputer, num_feature)],\n",
    "                          remainder='passthrough')\n",
    "\n",
    "mx_train_filled= imputer.fit_transform(mx_train)"
   ]
  },
  {
   "cell_type": "code",
   "execution_count": 140,
   "id": "04faf07f",
   "metadata": {},
   "outputs": [],
   "source": [
    "mx_train_filled_df= pd.DataFrame(mx_train_filled, columns=['Make','Colour','Doors', 'Odometer (KM)'])"
   ]
  },
  {
   "cell_type": "code",
   "execution_count": 141,
   "id": "9c30f244",
   "metadata": {},
   "outputs": [
    {
     "data": {
      "text/html": [
       "<div>\n",
       "<style scoped>\n",
       "    .dataframe tbody tr th:only-of-type {\n",
       "        vertical-align: middle;\n",
       "    }\n",
       "\n",
       "    .dataframe tbody tr th {\n",
       "        vertical-align: top;\n",
       "    }\n",
       "\n",
       "    .dataframe thead th {\n",
       "        text-align: right;\n",
       "    }\n",
       "</style>\n",
       "<table border=\"1\" class=\"dataframe\">\n",
       "  <thead>\n",
       "    <tr style=\"text-align: right;\">\n",
       "      <th></th>\n",
       "      <th>Make</th>\n",
       "      <th>Colour</th>\n",
       "      <th>Doors</th>\n",
       "      <th>Odometer (KM)</th>\n",
       "    </tr>\n",
       "  </thead>\n",
       "  <tbody>\n",
       "    <tr>\n",
       "      <th>0</th>\n",
       "      <td>missing</td>\n",
       "      <td>Red</td>\n",
       "      <td>4.0</td>\n",
       "      <td>227262.0</td>\n",
       "    </tr>\n",
       "    <tr>\n",
       "      <th>1</th>\n",
       "      <td>Nissan</td>\n",
       "      <td>missing</td>\n",
       "      <td>4.0</td>\n",
       "      <td>129820.0</td>\n",
       "    </tr>\n",
       "    <tr>\n",
       "      <th>2</th>\n",
       "      <td>Honda</td>\n",
       "      <td>Blue</td>\n",
       "      <td>4.0</td>\n",
       "      <td>76579.0</td>\n",
       "    </tr>\n",
       "    <tr>\n",
       "      <th>3</th>\n",
       "      <td>Toyota</td>\n",
       "      <td>Blue</td>\n",
       "      <td>4.0</td>\n",
       "      <td>154576.0</td>\n",
       "    </tr>\n",
       "    <tr>\n",
       "      <th>4</th>\n",
       "      <td>Toyota</td>\n",
       "      <td>White</td>\n",
       "      <td>4.0</td>\n",
       "      <td>110362.0</td>\n",
       "    </tr>\n",
       "    <tr>\n",
       "      <th>...</th>\n",
       "      <td>...</td>\n",
       "      <td>...</td>\n",
       "      <td>...</td>\n",
       "      <td>...</td>\n",
       "    </tr>\n",
       "    <tr>\n",
       "      <th>755</th>\n",
       "      <td>Toyota</td>\n",
       "      <td>Blue</td>\n",
       "      <td>4.0</td>\n",
       "      <td>52196.0</td>\n",
       "    </tr>\n",
       "    <tr>\n",
       "      <th>756</th>\n",
       "      <td>Toyota</td>\n",
       "      <td>White</td>\n",
       "      <td>4.0</td>\n",
       "      <td>50756.0</td>\n",
       "    </tr>\n",
       "    <tr>\n",
       "      <th>757</th>\n",
       "      <td>Toyota</td>\n",
       "      <td>Blue</td>\n",
       "      <td>4.0</td>\n",
       "      <td>71306.0</td>\n",
       "    </tr>\n",
       "    <tr>\n",
       "      <th>758</th>\n",
       "      <td>missing</td>\n",
       "      <td>White</td>\n",
       "      <td>4.0</td>\n",
       "      <td>177894.0</td>\n",
       "    </tr>\n",
       "    <tr>\n",
       "      <th>759</th>\n",
       "      <td>Honda</td>\n",
       "      <td>Blue</td>\n",
       "      <td>4.0</td>\n",
       "      <td>50417.0</td>\n",
       "    </tr>\n",
       "  </tbody>\n",
       "</table>\n",
       "<p>760 rows × 4 columns</p>\n",
       "</div>"
      ],
      "text/plain": [
       "        Make   Colour Doors Odometer (KM)\n",
       "0    missing      Red   4.0      227262.0\n",
       "1     Nissan  missing   4.0      129820.0\n",
       "2      Honda     Blue   4.0       76579.0\n",
       "3     Toyota     Blue   4.0      154576.0\n",
       "4     Toyota    White   4.0      110362.0\n",
       "..       ...      ...   ...           ...\n",
       "755   Toyota     Blue   4.0       52196.0\n",
       "756   Toyota    White   4.0       50756.0\n",
       "757   Toyota     Blue   4.0       71306.0\n",
       "758  missing    White   4.0      177894.0\n",
       "759    Honda     Blue   4.0       50417.0\n",
       "\n",
       "[760 rows x 4 columns]"
      ]
     },
     "execution_count": 141,
     "metadata": {},
     "output_type": "execute_result"
    }
   ],
   "source": [
    "mx_train_filled_df"
   ]
  },
  {
   "cell_type": "code",
   "execution_count": 142,
   "id": "38c6e760",
   "metadata": {},
   "outputs": [
    {
     "data": {
      "text/plain": [
       "Make             0\n",
       "Colour           0\n",
       "Doors            0\n",
       "Odometer (KM)    0\n",
       "dtype: int64"
      ]
     },
     "execution_count": 142,
     "metadata": {},
     "output_type": "execute_result"
    }
   ],
   "source": [
    "mx_train_filled_df.isna().sum()"
   ]
  },
  {
   "cell_type": "code",
   "execution_count": 144,
   "id": "bcfc68e9",
   "metadata": {},
   "outputs": [
    {
     "data": {
      "text/plain": [
       "array([['Nissan', 'Red', 4.0, 61892.0],\n",
       "       ['Nissan', 'Red', 4.0, 209976.0],\n",
       "       ['Nissan', 'Black', 4.0, 10148.0],\n",
       "       ['Toyota', 'Red', 4.0, 189278.0],\n",
       "       ['Toyota', 'White', 4.0, 216647.0],\n",
       "       ['Toyota', 'Black', 4.0, 35820.0],\n",
       "       ['Nissan', 'Blue', 4.0, 96785.0],\n",
       "       ['Toyota', 'Black', 4.0, 224986.0],\n",
       "       ['Toyota', 'missing', 4.0, 51788.0],\n",
       "       ['missing', 'White', 3.0, 19482.0],\n",
       "       ['Toyota', 'missing', 4.0, 103682.0],\n",
       "       ['BMW', 'Blue', 5.0, 165375.0],\n",
       "       ['Toyota', 'White', 4.0, 124057.0],\n",
       "       ['Toyota', 'missing', 4.0, 73360.0],\n",
       "       ['Honda', 'Blue', 4.0, 63800.0],\n",
       "       ['Honda', 'White', 4.0, 120283.0],\n",
       "       ['Toyota', 'White', 4.0, 149989.0],\n",
       "       ['Toyota', 'White', 4.0, 185455.0],\n",
       "       ['Toyota', 'White', 4.0, 129188.0],\n",
       "       ['missing', 'White', 5.0, 45513.0],\n",
       "       ['Nissan', 'White', 4.0, 133441.0],\n",
       "       ['Toyota', 'White', 4.0, 104722.0],\n",
       "       ['Toyota', 'White', 4.0, 170085.0],\n",
       "       ['Honda', 'White', 4.0, 56687.0],\n",
       "       ['BMW', 'Blue', 5.0, 69358.0],\n",
       "       ['BMW', 'White', 5.0, 195419.0],\n",
       "       ['Toyota', 'White', 4.0, 203804.0],\n",
       "       ['Toyota', 'Green', 4.0, 58938.0],\n",
       "       ['Nissan', 'White', 4.0, 215169.0],\n",
       "       ['BMW', 'Red', 5.0, 131587.0],\n",
       "       ['Nissan', 'Blue', 3.0, 180021.0],\n",
       "       ['Toyota', 'Blue', 4.0, 134046.4364640884],\n",
       "       ['Honda', 'White', 4.0, 126854.0],\n",
       "       ['Honda', 'Blue', 4.0, 196835.0],\n",
       "       ['BMW', 'White', 4.0, 194157.0],\n",
       "       ['Honda', 'Green', 4.0, 47019.0],\n",
       "       ['Nissan', 'Green', 3.0, 76610.0],\n",
       "       ['Toyota', 'missing', 4.0, 118706.0],\n",
       "       ['Nissan', 'White', 4.0, 197844.0],\n",
       "       ['BMW', 'Blue', 5.0, 72575.0],\n",
       "       ['Honda', 'White', 4.0, 178134.0],\n",
       "       ['Toyota', 'Blue', 4.0, 42480.0],\n",
       "       ['Honda', 'White', 4.0, 82518.0],\n",
       "       ['Nissan', 'White', 4.0, 24077.0],\n",
       "       ['Honda', 'Blue', 4.0, 248899.0],\n",
       "       ['BMW', 'Blue', 3.0, 142189.0],\n",
       "       ['Toyota', 'White', 4.0, 46848.0],\n",
       "       ['BMW', 'Black', 5.0, 158339.0],\n",
       "       ['Honda', 'Blue', 4.0, 106744.0],\n",
       "       ['Toyota', 'White', 4.0, 107410.0],\n",
       "       ['Toyota', 'White', 4.0, 72118.0],\n",
       "       ['missing', 'White', 4.0, 103728.0],\n",
       "       ['Toyota', 'White', 4.0, 185146.0],\n",
       "       ['Toyota', 'White', 4.0, 196225.0],\n",
       "       ['Nissan', 'Green', 4.0, 189739.0],\n",
       "       ['BMW', 'Green', 5.0, 162607.0],\n",
       "       ['BMW', 'Green', 5.0, 112156.0],\n",
       "       ['Nissan', 'Blue', 4.0, 180739.0],\n",
       "       ['Honda', 'White', 4.0, 195787.0],\n",
       "       ['Toyota', 'Blue', 4.0, 207048.0],\n",
       "       ['Nissan', 'White', 4.0, 195056.0],\n",
       "       ['BMW', 'Blue', 5.0, 79301.0],\n",
       "       ['Nissan', 'White', 4.0, 203795.0],\n",
       "       ['BMW', 'Green', 5.0, 117440.0],\n",
       "       ['Nissan', 'Blue', 4.0, 76412.0],\n",
       "       ['Nissan', 'White', 4.0, 51004.0],\n",
       "       ['BMW', 'Blue', 5.0, 179255.0],\n",
       "       ['Nissan', 'Green', 4.0, 235589.0],\n",
       "       ['Toyota', 'White', 4.0, 172018.0],\n",
       "       ['Toyota', 'Blue', 4.0, 134046.4364640884],\n",
       "       ['Toyota', 'White', 4.0, 95725.0],\n",
       "       ['missing', 'Green', 4.0, 83293.0],\n",
       "       ['Toyota', 'White', 4.0, 132055.0],\n",
       "       ['BMW', 'Black', 3.0, 11049.0],\n",
       "       ['Toyota', 'White', 4.0, 199985.0],\n",
       "       ['Nissan', 'Blue', 4.0, 157235.0],\n",
       "       ['missing', 'Blue', 4.0, 73926.0],\n",
       "       ['Toyota', 'Black', 4.0, 86333.0],\n",
       "       ['Nissan', 'White', 4.0, 72122.0],\n",
       "       ['Toyota', 'White', 4.0, 134046.4364640884],\n",
       "       ['Toyota', 'White', 4.0, 108569.0],\n",
       "       ['Toyota', 'White', 4.0, 231683.0],\n",
       "       ['Toyota', 'Red', 4.0, 248634.0],\n",
       "       ['Toyota', 'Blue', 4.0, 125939.0],\n",
       "       ['Honda', 'Black', 4.0, 94941.0],\n",
       "       ['Toyota', 'Blue', 4.0, 95317.0],\n",
       "       ['Honda', 'White', 4.0, 52563.0],\n",
       "       ['Nissan', 'Blue', 4.0, 34024.0],\n",
       "       ['BMW', 'Blue', 3.0, 63321.0],\n",
       "       ['Honda', 'Blue', 4.0, 207344.0],\n",
       "       ['Honda', 'Blue', 4.0, 152547.0],\n",
       "       ['Honda', 'Blue', 4.0, 136392.0],\n",
       "       ['Toyota', 'Blue', 4.0, 177356.0],\n",
       "       ['Toyota', 'Green', 4.0, 151291.0],\n",
       "       ['BMW', 'White', 4.0, 96224.0],\n",
       "       ['BMW', 'White', 4.0, 235774.0],\n",
       "       ['Nissan', 'White', 3.0, 176135.0],\n",
       "       ['Honda', 'missing', 4.0, 223685.0],\n",
       "       ['Nissan', 'Green', 4.0, 163080.0],\n",
       "       ['Nissan', 'Red', 4.0, 134046.4364640884],\n",
       "       ['Nissan', 'Blue', 4.0, 249860.0],\n",
       "       ['Toyota', 'Red', 4.0, 190211.0],\n",
       "       ['Nissan', 'Green', 3.0, 190794.0],\n",
       "       ['Nissan', 'Blue', 4.0, 189182.0],\n",
       "       ['Honda', 'Blue', 4.0, 68223.0],\n",
       "       ['Nissan', 'Blue', 4.0, 134046.4364640884],\n",
       "       ['Toyota', 'White', 4.0, 83594.0],\n",
       "       ['Toyota', 'Blue', 4.0, 77646.0],\n",
       "       ['Honda', 'White', 4.0, 224292.0],\n",
       "       ['Honda', 'Red', 4.0, 120306.0],\n",
       "       ['Nissan', 'Red', 3.0, 113278.0],\n",
       "       ['Toyota', 'Red', 4.0, 162665.0],\n",
       "       ['Toyota', 'Red', 4.0, 157432.0],\n",
       "       ['Toyota', 'missing', 4.0, 114202.0],\n",
       "       ['Toyota', 'Green', 4.0, 142598.0],\n",
       "       ['Nissan', 'White', 4.0, 49310.0],\n",
       "       ['Toyota', 'Green', 4.0, 172493.0],\n",
       "       ['Toyota', 'Blue', 4.0, 61337.0],\n",
       "       ['Toyota', 'Blue', 4.0, 230908.0],\n",
       "       ['Honda', 'White', 4.0, 248301.0],\n",
       "       ['Toyota', 'Red', 4.0, 241987.0],\n",
       "       ['Toyota', 'missing', 4.0, 170466.0],\n",
       "       ['Nissan', 'Blue', 4.0, 228192.0],\n",
       "       ['Toyota', 'White', 4.0, 221050.0],\n",
       "       ['Honda', 'missing', 4.0, 30615.0],\n",
       "       ['Nissan', 'White', 4.0, 193389.0],\n",
       "       ['Toyota', 'White', 4.0, 78123.0],\n",
       "       ['Honda', 'White', 4.0, 29541.0],\n",
       "       ['Honda', 'Green', 4.0, 237627.0],\n",
       "       ['Toyota', 'Blue', 4.0, 103202.0],\n",
       "       ['Toyota', 'White', 4.0, 216076.0],\n",
       "       ['Toyota', 'Blue', 4.0, 140465.0],\n",
       "       ['Honda', 'White', 4.0, 134046.4364640884],\n",
       "       ['Toyota', 'White', 4.0, 134415.0],\n",
       "       ['Toyota', 'Blue', 4.0, 39753.0],\n",
       "       ['Nissan', 'White', 4.0, 66199.0],\n",
       "       ['Honda', 'Red', 4.0, 42652.0],\n",
       "       ['Honda', 'White', 4.0, 134046.4364640884],\n",
       "       ['BMW', 'White', 5.0, 84327.0],\n",
       "       ['Toyota', 'White', 4.0, 177571.0],\n",
       "       ['BMW', 'Blue', 3.0, 130817.0],\n",
       "       ['Toyota', 'Black', 4.0, 40285.0],\n",
       "       ['BMW', 'White', 5.0, 79937.0],\n",
       "       ['Nissan', 'Black', 4.0, 239908.0],\n",
       "       ['Toyota', 'White', 4.0, 58054.0],\n",
       "       ['Toyota', 'Blue', 4.0, 51155.0],\n",
       "       ['Toyota', 'Red', 4.0, 13050.0],\n",
       "       ['missing', 'White', 3.0, 133069.0],\n",
       "       ['Honda', 'Red', 4.0, 11035.0],\n",
       "       ['Honda', 'Green', 4.0, 130075.0],\n",
       "       ['Honda', 'Blue', 4.0, 73286.0],\n",
       "       ['Honda', 'White', 4.0, 148238.0],\n",
       "       ['BMW', 'White', 3.0, 57905.0],\n",
       "       ['Honda', 'Blue', 4.0, 187630.0],\n",
       "       ['Honda', 'White', 4.0, 161068.0],\n",
       "       ['Nissan', 'Blue', 3.0, 193135.0],\n",
       "       ['Honda', 'White', 4.0, 43437.0],\n",
       "       ['Toyota', 'Red', 4.0, 133195.0],\n",
       "       ['Nissan', 'Red', 3.0, 196130.0],\n",
       "       ['BMW', 'White', 5.0, 178796.0],\n",
       "       ['Toyota', 'White', 4.0, 119439.0],\n",
       "       ['Honda', 'White', 4.0, 152212.0],\n",
       "       ['Honda', 'Blue', 4.0, 210446.0],\n",
       "       ['BMW', 'Black', 5.0, 181572.0],\n",
       "       ['Honda', 'Blue', 4.0, 247869.0],\n",
       "       ['Nissan', 'White', 4.0, 134046.4364640884],\n",
       "       ['Toyota', 'Blue', 4.0, 223390.0],\n",
       "       ['Toyota', 'Blue', 4.0, 223875.0],\n",
       "       ['Honda', 'White', 4.0, 42844.0],\n",
       "       ['Honda', 'White', 4.0, 56523.0],\n",
       "       ['Honda', 'White', 4.0, 84714.0],\n",
       "       ['Toyota', 'Blue', 4.0, 247601.0],\n",
       "       ['Nissan', 'Blue', 4.0, 224410.0],\n",
       "       ['Nissan', 'Green', 3.0, 107112.0],\n",
       "       ['Honda', 'Blue', 4.0, 196526.0],\n",
       "       ['Honda', 'Blue', 4.0, 199833.0],\n",
       "       ['Nissan', 'Blue', 4.0, 38233.0],\n",
       "       ['Honda', 'Blue', 4.0, 171303.0],\n",
       "       ['Toyota', 'White', 4.0, 71805.0],\n",
       "       ['Toyota', 'Blue', 4.0, 135080.0],\n",
       "       ['Honda', 'Blue', 4.0, 166595.0],\n",
       "       ['Toyota', 'Green', 4.0, 132714.0],\n",
       "       ['Nissan', 'Black', 4.0, 59335.0],\n",
       "       ['Nissan', 'Blue', 4.0, 63686.0],\n",
       "       ['Honda', 'White', 4.0, 215883.0],\n",
       "       ['Toyota', 'Red', 4.0, 134046.4364640884],\n",
       "       ['Honda', 'Red', 4.0, 164352.0],\n",
       "       ['Toyota', 'Green', 4.0, 180760.0],\n",
       "       ['missing', 'Blue', 4.0, 174008.0],\n",
       "       ['Honda', 'Black', 4.0, 61120.0]], dtype=object)"
      ]
     },
     "execution_count": 144,
     "metadata": {},
     "output_type": "execute_result"
    }
   ],
   "source": [
    "## Filling data for test data as well\n",
    "from sklearn.impute import SimpleImputer\n",
    "from sklearn.compose import ColumnTransformer\n",
    "\n",
    "cat_imputer= SimpleImputer(strategy='constant', fill_value='missing')\n",
    "door_imputer= SimpleImputer(strategy='constant', fill_value=4)\n",
    "num_imputer= SimpleImputer(strategy='mean')\n",
    "\n",
    "cat_feature=['Make','Colour']\n",
    "door_feature= ['Doors']\n",
    "num_feature= ['Odometer (KM)']\n",
    "\n",
    "imputer= ColumnTransformer([(\"cat_imputer\",cat_imputer, cat_feature),\n",
    "                           (\"door_imputer\",door_imputer, door_feature),\n",
    "                           (\"num_imputer\",num_imputer, num_feature)],\n",
    "                          remainder='passthrough')\n",
    "mx_test_filled= imputer.fit_transform(mx_test)\n",
    "mx_test_filled"
   ]
  },
  {
   "cell_type": "code",
   "execution_count": 145,
   "id": "3c04852a",
   "metadata": {},
   "outputs": [
    {
     "data": {
      "text/html": [
       "<div>\n",
       "<style scoped>\n",
       "    .dataframe tbody tr th:only-of-type {\n",
       "        vertical-align: middle;\n",
       "    }\n",
       "\n",
       "    .dataframe tbody tr th {\n",
       "        vertical-align: top;\n",
       "    }\n",
       "\n",
       "    .dataframe thead th {\n",
       "        text-align: right;\n",
       "    }\n",
       "</style>\n",
       "<table border=\"1\" class=\"dataframe\">\n",
       "  <thead>\n",
       "    <tr style=\"text-align: right;\">\n",
       "      <th></th>\n",
       "      <th>Make</th>\n",
       "      <th>Colour</th>\n",
       "      <th>Doors</th>\n",
       "      <th>Odometer (KM)</th>\n",
       "    </tr>\n",
       "  </thead>\n",
       "  <tbody>\n",
       "    <tr>\n",
       "      <th>0</th>\n",
       "      <td>Nissan</td>\n",
       "      <td>Red</td>\n",
       "      <td>4.0</td>\n",
       "      <td>61892.0</td>\n",
       "    </tr>\n",
       "    <tr>\n",
       "      <th>1</th>\n",
       "      <td>Nissan</td>\n",
       "      <td>Red</td>\n",
       "      <td>4.0</td>\n",
       "      <td>209976.0</td>\n",
       "    </tr>\n",
       "    <tr>\n",
       "      <th>2</th>\n",
       "      <td>Nissan</td>\n",
       "      <td>Black</td>\n",
       "      <td>4.0</td>\n",
       "      <td>10148.0</td>\n",
       "    </tr>\n",
       "    <tr>\n",
       "      <th>3</th>\n",
       "      <td>Toyota</td>\n",
       "      <td>Red</td>\n",
       "      <td>4.0</td>\n",
       "      <td>189278.0</td>\n",
       "    </tr>\n",
       "    <tr>\n",
       "      <th>4</th>\n",
       "      <td>Toyota</td>\n",
       "      <td>White</td>\n",
       "      <td>4.0</td>\n",
       "      <td>216647.0</td>\n",
       "    </tr>\n",
       "  </tbody>\n",
       "</table>\n",
       "</div>"
      ],
      "text/plain": [
       "     Make Colour Doors Odometer (KM)\n",
       "0  Nissan    Red   4.0       61892.0\n",
       "1  Nissan    Red   4.0      209976.0\n",
       "2  Nissan  Black   4.0       10148.0\n",
       "3  Toyota    Red   4.0      189278.0\n",
       "4  Toyota  White   4.0      216647.0"
      ]
     },
     "execution_count": 145,
     "metadata": {},
     "output_type": "execute_result"
    }
   ],
   "source": [
    "mx_test_filled_df= pd.DataFrame(mx_test_filled, columns= ['Make', 'Colour', 'Doors','Odometer (KM)'])\n",
    "mx_test_filled_df.head()"
   ]
  },
  {
   "cell_type": "code",
   "execution_count": 147,
   "id": "e253e354",
   "metadata": {},
   "outputs": [
    {
     "data": {
      "text/plain": [
       "<760x15 sparse matrix of type '<class 'numpy.float64'>'\n",
       "\twith 3040 stored elements in Compressed Sparse Row format>"
      ]
     },
     "execution_count": 147,
     "metadata": {},
     "output_type": "execute_result"
    }
   ],
   "source": [
    "from sklearn.preprocessing import OneHotEncoder\n",
    "from sklearn.compose import ColumnTransformer\n",
    "one_hot= OneHotEncoder()\n",
    "categories=['Make','Colour','Doors']\n",
    "transform= ColumnTransformer([('one_hot', one_hot, categories)],remainder='passthrough')\n",
    "mx_train_filled_ch= transform.fit_transform(mx_train_filled_df)\n",
    "mx_train_filled_ch"
   ]
  },
  {
   "cell_type": "code",
   "execution_count": 148,
   "id": "698fc344",
   "metadata": {},
   "outputs": [
    {
     "data": {
      "text/plain": [
       "<190x15 sparse matrix of type '<class 'numpy.float64'>'\n",
       "\twith 760 stored elements in Compressed Sparse Row format>"
      ]
     },
     "execution_count": 148,
     "metadata": {},
     "output_type": "execute_result"
    }
   ],
   "source": [
    "## For test data\n",
    "from sklearn.preprocessing import OneHotEncoder\n",
    "from sklearn.compose import ColumnTransformer\n",
    "one_hot= OneHotEncoder()\n",
    "categories=['Make','Colour','Doors']\n",
    "transform= ColumnTransformer([('one_hot', one_hot, categories)],remainder='passthrough')\n",
    "mx_test_filled_ch= transform.fit_transform(mx_test_filled_df)\n",
    "mx_test_filled_ch"
   ]
  },
  {
   "cell_type": "code",
   "execution_count": 149,
   "id": "19a50eb4",
   "metadata": {},
   "outputs": [
    {
     "data": {
      "text/plain": [
       "0.3538419388792118"
      ]
     },
     "execution_count": 149,
     "metadata": {},
     "output_type": "execute_result"
    }
   ],
   "source": [
    "# Fit the model\n",
    "\n",
    "np.random.seed(42)\n",
    "from sklearn.ensemble import RandomForestRegressor\n",
    "model= RandomForestRegressor()\n",
    "model.fit(mx_train_filled_ch,my_train)\n",
    "model.score(mx_test_filled_ch,my_test)"
   ]
  },
  {
   "cell_type": "markdown",
   "id": "b92c5b49",
   "metadata": {},
   "source": [
    "### Important Definitions\n",
    "1. Imputation- filling missing values\n",
    "2. Feature Engineering OR Feature Encoding- turning non- numerical values into numerical values"
   ]
  },
  {
   "cell_type": "markdown",
   "id": "ea93c265",
   "metadata": {},
   "source": [
    "### CALIFORNIA HOUSING DATASET"
   ]
  },
  {
   "cell_type": "code",
   "execution_count": 3,
   "id": "b54d55a5",
   "metadata": {},
   "outputs": [
    {
     "data": {
      "text/plain": [
       "{'data': array([[   8.3252    ,   41.        ,    6.98412698, ...,    2.55555556,\n",
       "           37.88      , -122.23      ],\n",
       "        [   8.3014    ,   21.        ,    6.23813708, ...,    2.10984183,\n",
       "           37.86      , -122.22      ],\n",
       "        [   7.2574    ,   52.        ,    8.28813559, ...,    2.80225989,\n",
       "           37.85      , -122.24      ],\n",
       "        ...,\n",
       "        [   1.7       ,   17.        ,    5.20554273, ...,    2.3256351 ,\n",
       "           39.43      , -121.22      ],\n",
       "        [   1.8672    ,   18.        ,    5.32951289, ...,    2.12320917,\n",
       "           39.43      , -121.32      ],\n",
       "        [   2.3886    ,   16.        ,    5.25471698, ...,    2.61698113,\n",
       "           39.37      , -121.24      ]]),\n",
       " 'target': array([4.526, 3.585, 3.521, ..., 0.923, 0.847, 0.894]),\n",
       " 'frame': None,\n",
       " 'target_names': ['MedHouseVal'],\n",
       " 'feature_names': ['MedInc',\n",
       "  'HouseAge',\n",
       "  'AveRooms',\n",
       "  'AveBedrms',\n",
       "  'Population',\n",
       "  'AveOccup',\n",
       "  'Latitude',\n",
       "  'Longitude'],\n",
       " 'DESCR': '.. _california_housing_dataset:\\n\\nCalifornia Housing dataset\\n--------------------------\\n\\n**Data Set Characteristics:**\\n\\n    :Number of Instances: 20640\\n\\n    :Number of Attributes: 8 numeric, predictive attributes and the target\\n\\n    :Attribute Information:\\n        - MedInc        median income in block group\\n        - HouseAge      median house age in block group\\n        - AveRooms      average number of rooms per household\\n        - AveBedrms     average number of bedrooms per household\\n        - Population    block group population\\n        - AveOccup      average number of household members\\n        - Latitude      block group latitude\\n        - Longitude     block group longitude\\n\\n    :Missing Attribute Values: None\\n\\nThis dataset was obtained from the StatLib repository.\\nhttps://www.dcc.fc.up.pt/~ltorgo/Regression/cal_housing.html\\n\\nThe target variable is the median house value for California districts,\\nexpressed in hundreds of thousands of dollars ($100,000).\\n\\nThis dataset was derived from the 1990 U.S. census, using one row per census\\nblock group. A block group is the smallest geographical unit for which the U.S.\\nCensus Bureau publishes sample data (a block group typically has a population\\nof 600 to 3,000 people).\\n\\nA household is a group of people residing within a home. Since the average\\nnumber of rooms and bedrooms in this dataset are provided per household, these\\ncolumns may take surprisingly large values for block groups with few households\\nand many empty houses, such as vacation resorts.\\n\\nIt can be downloaded/loaded using the\\n:func:`sklearn.datasets.fetch_california_housing` function.\\n\\n.. topic:: References\\n\\n    - Pace, R. Kelley and Ronald Barry, Sparse Spatial Autoregressions,\\n      Statistics and Probability Letters, 33 (1997) 291-297\\n'}"
      ]
     },
     "execution_count": 3,
     "metadata": {},
     "output_type": "execute_result"
    }
   ],
   "source": [
    "from sklearn.datasets import fetch_california_housing\n",
    "housing= fetch_california_housing();\n",
    "housing"
   ]
  },
  {
   "cell_type": "code",
   "execution_count": 8,
   "id": "12b4e968",
   "metadata": {},
   "outputs": [
    {
     "data": {
      "text/html": [
       "<div>\n",
       "<style scoped>\n",
       "    .dataframe tbody tr th:only-of-type {\n",
       "        vertical-align: middle;\n",
       "    }\n",
       "\n",
       "    .dataframe tbody tr th {\n",
       "        vertical-align: top;\n",
       "    }\n",
       "\n",
       "    .dataframe thead th {\n",
       "        text-align: right;\n",
       "    }\n",
       "</style>\n",
       "<table border=\"1\" class=\"dataframe\">\n",
       "  <thead>\n",
       "    <tr style=\"text-align: right;\">\n",
       "      <th></th>\n",
       "      <th>MedInc</th>\n",
       "      <th>HouseAge</th>\n",
       "      <th>AveRooms</th>\n",
       "      <th>AveBedrms</th>\n",
       "      <th>Population</th>\n",
       "      <th>AveOccup</th>\n",
       "      <th>Latitude</th>\n",
       "      <th>Longitude</th>\n",
       "    </tr>\n",
       "  </thead>\n",
       "  <tbody>\n",
       "    <tr>\n",
       "      <th>0</th>\n",
       "      <td>8.3252</td>\n",
       "      <td>41.0</td>\n",
       "      <td>6.984127</td>\n",
       "      <td>1.023810</td>\n",
       "      <td>322.0</td>\n",
       "      <td>2.555556</td>\n",
       "      <td>37.88</td>\n",
       "      <td>-122.23</td>\n",
       "    </tr>\n",
       "    <tr>\n",
       "      <th>1</th>\n",
       "      <td>8.3014</td>\n",
       "      <td>21.0</td>\n",
       "      <td>6.238137</td>\n",
       "      <td>0.971880</td>\n",
       "      <td>2401.0</td>\n",
       "      <td>2.109842</td>\n",
       "      <td>37.86</td>\n",
       "      <td>-122.22</td>\n",
       "    </tr>\n",
       "    <tr>\n",
       "      <th>2</th>\n",
       "      <td>7.2574</td>\n",
       "      <td>52.0</td>\n",
       "      <td>8.288136</td>\n",
       "      <td>1.073446</td>\n",
       "      <td>496.0</td>\n",
       "      <td>2.802260</td>\n",
       "      <td>37.85</td>\n",
       "      <td>-122.24</td>\n",
       "    </tr>\n",
       "    <tr>\n",
       "      <th>3</th>\n",
       "      <td>5.6431</td>\n",
       "      <td>52.0</td>\n",
       "      <td>5.817352</td>\n",
       "      <td>1.073059</td>\n",
       "      <td>558.0</td>\n",
       "      <td>2.547945</td>\n",
       "      <td>37.85</td>\n",
       "      <td>-122.25</td>\n",
       "    </tr>\n",
       "    <tr>\n",
       "      <th>4</th>\n",
       "      <td>3.8462</td>\n",
       "      <td>52.0</td>\n",
       "      <td>6.281853</td>\n",
       "      <td>1.081081</td>\n",
       "      <td>565.0</td>\n",
       "      <td>2.181467</td>\n",
       "      <td>37.85</td>\n",
       "      <td>-122.25</td>\n",
       "    </tr>\n",
       "  </tbody>\n",
       "</table>\n",
       "</div>"
      ],
      "text/plain": [
       "   MedInc  HouseAge  AveRooms  AveBedrms  Population  AveOccup  Latitude  \\\n",
       "0  8.3252      41.0  6.984127   1.023810       322.0  2.555556     37.88   \n",
       "1  8.3014      21.0  6.238137   0.971880      2401.0  2.109842     37.86   \n",
       "2  7.2574      52.0  8.288136   1.073446       496.0  2.802260     37.85   \n",
       "3  5.6431      52.0  5.817352   1.073059       558.0  2.547945     37.85   \n",
       "4  3.8462      52.0  6.281853   1.081081       565.0  2.181467     37.85   \n",
       "\n",
       "   Longitude  \n",
       "0    -122.23  \n",
       "1    -122.22  \n",
       "2    -122.24  \n",
       "3    -122.25  \n",
       "4    -122.25  "
      ]
     },
     "execution_count": 8,
     "metadata": {},
     "output_type": "execute_result"
    }
   ],
   "source": [
    "housing_Df= pd.DataFrame(housing['data'],columns= housing['feature_names'])\n",
    "housing_Df.head()"
   ]
  },
  {
   "cell_type": "code",
   "execution_count": 16,
   "id": "9fc984ea",
   "metadata": {},
   "outputs": [
    {
     "data": {
      "text/html": [
       "<div>\n",
       "<style scoped>\n",
       "    .dataframe tbody tr th:only-of-type {\n",
       "        vertical-align: middle;\n",
       "    }\n",
       "\n",
       "    .dataframe tbody tr th {\n",
       "        vertical-align: top;\n",
       "    }\n",
       "\n",
       "    .dataframe thead th {\n",
       "        text-align: right;\n",
       "    }\n",
       "</style>\n",
       "<table border=\"1\" class=\"dataframe\">\n",
       "  <thead>\n",
       "    <tr style=\"text-align: right;\">\n",
       "      <th></th>\n",
       "      <th>MedInc</th>\n",
       "      <th>HouseAge</th>\n",
       "      <th>AveRooms</th>\n",
       "      <th>AveBedrms</th>\n",
       "      <th>Population</th>\n",
       "      <th>AveOccup</th>\n",
       "      <th>Latitude</th>\n",
       "      <th>Longitude</th>\n",
       "      <th>target</th>\n",
       "    </tr>\n",
       "  </thead>\n",
       "  <tbody>\n",
       "    <tr>\n",
       "      <th>0</th>\n",
       "      <td>8.3252</td>\n",
       "      <td>41.0</td>\n",
       "      <td>6.984127</td>\n",
       "      <td>1.023810</td>\n",
       "      <td>322.0</td>\n",
       "      <td>2.555556</td>\n",
       "      <td>37.88</td>\n",
       "      <td>-122.23</td>\n",
       "      <td>4.526</td>\n",
       "    </tr>\n",
       "    <tr>\n",
       "      <th>1</th>\n",
       "      <td>8.3014</td>\n",
       "      <td>21.0</td>\n",
       "      <td>6.238137</td>\n",
       "      <td>0.971880</td>\n",
       "      <td>2401.0</td>\n",
       "      <td>2.109842</td>\n",
       "      <td>37.86</td>\n",
       "      <td>-122.22</td>\n",
       "      <td>3.585</td>\n",
       "    </tr>\n",
       "    <tr>\n",
       "      <th>2</th>\n",
       "      <td>7.2574</td>\n",
       "      <td>52.0</td>\n",
       "      <td>8.288136</td>\n",
       "      <td>1.073446</td>\n",
       "      <td>496.0</td>\n",
       "      <td>2.802260</td>\n",
       "      <td>37.85</td>\n",
       "      <td>-122.24</td>\n",
       "      <td>3.521</td>\n",
       "    </tr>\n",
       "    <tr>\n",
       "      <th>3</th>\n",
       "      <td>5.6431</td>\n",
       "      <td>52.0</td>\n",
       "      <td>5.817352</td>\n",
       "      <td>1.073059</td>\n",
       "      <td>558.0</td>\n",
       "      <td>2.547945</td>\n",
       "      <td>37.85</td>\n",
       "      <td>-122.25</td>\n",
       "      <td>3.413</td>\n",
       "    </tr>\n",
       "    <tr>\n",
       "      <th>4</th>\n",
       "      <td>3.8462</td>\n",
       "      <td>52.0</td>\n",
       "      <td>6.281853</td>\n",
       "      <td>1.081081</td>\n",
       "      <td>565.0</td>\n",
       "      <td>2.181467</td>\n",
       "      <td>37.85</td>\n",
       "      <td>-122.25</td>\n",
       "      <td>3.422</td>\n",
       "    </tr>\n",
       "  </tbody>\n",
       "</table>\n",
       "</div>"
      ],
      "text/plain": [
       "   MedInc  HouseAge  AveRooms  AveBedrms  Population  AveOccup  Latitude  \\\n",
       "0  8.3252      41.0  6.984127   1.023810       322.0  2.555556     37.88   \n",
       "1  8.3014      21.0  6.238137   0.971880      2401.0  2.109842     37.86   \n",
       "2  7.2574      52.0  8.288136   1.073446       496.0  2.802260     37.85   \n",
       "3  5.6431      52.0  5.817352   1.073059       558.0  2.547945     37.85   \n",
       "4  3.8462      52.0  6.281853   1.081081       565.0  2.181467     37.85   \n",
       "\n",
       "   Longitude  target  \n",
       "0    -122.23   4.526  \n",
       "1    -122.22   3.585  \n",
       "2    -122.24   3.521  \n",
       "3    -122.25   3.413  \n",
       "4    -122.25   3.422  "
      ]
     },
     "execution_count": 16,
     "metadata": {},
     "output_type": "execute_result"
    }
   ],
   "source": [
    "housing_Df['target']=housing['target']\n",
    "housing_Df.head()"
   ]
  },
  {
   "cell_type": "code",
   "execution_count": 18,
   "id": "f5c6e35e",
   "metadata": {},
   "outputs": [
    {
     "data": {
      "text/html": [
       "<div>\n",
       "<style scoped>\n",
       "    .dataframe tbody tr th:only-of-type {\n",
       "        vertical-align: middle;\n",
       "    }\n",
       "\n",
       "    .dataframe tbody tr th {\n",
       "        vertical-align: top;\n",
       "    }\n",
       "\n",
       "    .dataframe thead th {\n",
       "        text-align: right;\n",
       "    }\n",
       "</style>\n",
       "<table border=\"1\" class=\"dataframe\">\n",
       "  <thead>\n",
       "    <tr style=\"text-align: right;\">\n",
       "      <th></th>\n",
       "      <th>MedInc</th>\n",
       "      <th>HouseAge</th>\n",
       "      <th>AveRooms</th>\n",
       "      <th>AveBedrms</th>\n",
       "      <th>Population</th>\n",
       "      <th>AveOccup</th>\n",
       "      <th>Latitude</th>\n",
       "      <th>Longitude</th>\n",
       "      <th>target</th>\n",
       "    </tr>\n",
       "  </thead>\n",
       "  <tbody>\n",
       "    <tr>\n",
       "      <th>0</th>\n",
       "      <td>8.3252</td>\n",
       "      <td>41.0</td>\n",
       "      <td>6.984127</td>\n",
       "      <td>1.023810</td>\n",
       "      <td>322.0</td>\n",
       "      <td>2.555556</td>\n",
       "      <td>37.88</td>\n",
       "      <td>-122.23</td>\n",
       "      <td>4.526</td>\n",
       "    </tr>\n",
       "    <tr>\n",
       "      <th>1</th>\n",
       "      <td>8.3014</td>\n",
       "      <td>21.0</td>\n",
       "      <td>6.238137</td>\n",
       "      <td>0.971880</td>\n",
       "      <td>2401.0</td>\n",
       "      <td>2.109842</td>\n",
       "      <td>37.86</td>\n",
       "      <td>-122.22</td>\n",
       "      <td>3.585</td>\n",
       "    </tr>\n",
       "    <tr>\n",
       "      <th>2</th>\n",
       "      <td>7.2574</td>\n",
       "      <td>52.0</td>\n",
       "      <td>8.288136</td>\n",
       "      <td>1.073446</td>\n",
       "      <td>496.0</td>\n",
       "      <td>2.802260</td>\n",
       "      <td>37.85</td>\n",
       "      <td>-122.24</td>\n",
       "      <td>3.521</td>\n",
       "    </tr>\n",
       "    <tr>\n",
       "      <th>3</th>\n",
       "      <td>5.6431</td>\n",
       "      <td>52.0</td>\n",
       "      <td>5.817352</td>\n",
       "      <td>1.073059</td>\n",
       "      <td>558.0</td>\n",
       "      <td>2.547945</td>\n",
       "      <td>37.85</td>\n",
       "      <td>-122.25</td>\n",
       "      <td>3.413</td>\n",
       "    </tr>\n",
       "    <tr>\n",
       "      <th>4</th>\n",
       "      <td>3.8462</td>\n",
       "      <td>52.0</td>\n",
       "      <td>6.281853</td>\n",
       "      <td>1.081081</td>\n",
       "      <td>565.0</td>\n",
       "      <td>2.181467</td>\n",
       "      <td>37.85</td>\n",
       "      <td>-122.25</td>\n",
       "      <td>3.422</td>\n",
       "    </tr>\n",
       "  </tbody>\n",
       "</table>\n",
       "</div>"
      ],
      "text/plain": [
       "   MedInc  HouseAge  AveRooms  AveBedrms  Population  AveOccup  Latitude  \\\n",
       "0  8.3252      41.0  6.984127   1.023810       322.0  2.555556     37.88   \n",
       "1  8.3014      21.0  6.238137   0.971880      2401.0  2.109842     37.86   \n",
       "2  7.2574      52.0  8.288136   1.073446       496.0  2.802260     37.85   \n",
       "3  5.6431      52.0  5.817352   1.073059       558.0  2.547945     37.85   \n",
       "4  3.8462      52.0  6.281853   1.081081       565.0  2.181467     37.85   \n",
       "\n",
       "   Longitude  target  \n",
       "0    -122.23   4.526  \n",
       "1    -122.22   3.585  \n",
       "2    -122.24   3.521  \n",
       "3    -122.25   3.413  \n",
       "4    -122.25   3.422  "
      ]
     },
     "execution_count": 18,
     "metadata": {},
     "output_type": "execute_result"
    }
   ],
   "source": [
    "housing_Df.head()"
   ]
  },
  {
   "cell_type": "code",
   "execution_count": 26,
   "id": "dc12c1c7",
   "metadata": {},
   "outputs": [],
   "source": [
    "#Create random seed\n",
    "np.random.seed(42)\n",
    "\n",
    "#Creating data\n",
    "X= housing_Df.drop('target',axis=1)\n",
    "y= housing_Df['target']\n",
    "\n",
    "#Splitting data into train and test\n",
    "X_train, X_test, y_train, y_test= train_test_split(X, y, test_size=0.2)\n",
    "\n",
    "#Fit the model\n"
   ]
  },
  {
   "cell_type": "code",
   "execution_count": null,
   "id": "ad1da17b",
   "metadata": {},
   "outputs": [],
   "source": []
  }
 ],
 "metadata": {
  "kernelspec": {
   "display_name": "Python 3 (ipykernel)",
   "language": "python",
   "name": "python3"
  },
  "language_info": {
   "codemirror_mode": {
    "name": "ipython",
    "version": 3
   },
   "file_extension": ".py",
   "mimetype": "text/x-python",
   "name": "python",
   "nbconvert_exporter": "python",
   "pygments_lexer": "ipython3",
   "version": "3.11.4"
  }
 },
 "nbformat": 4,
 "nbformat_minor": 5
}
